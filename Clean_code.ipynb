{
 "cells": [
  {
   "cell_type": "code",
   "execution_count": 1,
   "id": "4f35e897",
   "metadata": {},
   "outputs": [],
   "source": [
    "import pandas as pd\n",
    "import numpy as np\n",
    "import torch\n",
    "from torch import nn"
   ]
  },
  {
   "cell_type": "code",
   "execution_count": 425,
   "id": "91953035",
   "metadata": {},
   "outputs": [],
   "source": [
    "data = pd.read_excel(\"parsis_new.xlsx\")"
   ]
  },
  {
   "cell_type": "code",
   "execution_count": 426,
   "id": "6f4482cf",
   "metadata": {},
   "outputs": [
    {
     "data": {
      "text/html": [
       "<div>\n",
       "<style scoped>\n",
       "    .dataframe tbody tr th:only-of-type {\n",
       "        vertical-align: middle;\n",
       "    }\n",
       "\n",
       "    .dataframe tbody tr th {\n",
       "        vertical-align: top;\n",
       "    }\n",
       "\n",
       "    .dataframe thead th {\n",
       "        text-align: right;\n",
       "    }\n",
       "</style>\n",
       "<table border=\"1\" class=\"dataframe\">\n",
       "  <thead>\n",
       "    <tr style=\"text-align: right;\">\n",
       "      <th></th>\n",
       "      <th>SL_CODE</th>\n",
       "      <th>DBT</th>\n",
       "      <th>CRD</th>\n",
       "      <th>MAIN_CODE</th>\n",
       "      <th>SUM</th>\n",
       "    </tr>\n",
       "  </thead>\n",
       "  <tbody>\n",
       "    <tr>\n",
       "      <th>0</th>\n",
       "      <td>501073102</td>\n",
       "      <td>54898837</td>\n",
       "      <td>0</td>\n",
       "      <td>600400</td>\n",
       "      <td>54898837</td>\n",
       "    </tr>\n",
       "    <tr>\n",
       "      <th>1</th>\n",
       "      <td>501073210</td>\n",
       "      <td>6586589538</td>\n",
       "      <td>0</td>\n",
       "      <td>613500</td>\n",
       "      <td>6586589538</td>\n",
       "    </tr>\n",
       "    <tr>\n",
       "      <th>2</th>\n",
       "      <td>501073211</td>\n",
       "      <td>52724428135</td>\n",
       "      <td>0</td>\n",
       "      <td>613300</td>\n",
       "      <td>52724428135</td>\n",
       "    </tr>\n",
       "    <tr>\n",
       "      <th>3</th>\n",
       "      <td>501080401</td>\n",
       "      <td>7227600967</td>\n",
       "      <td>0</td>\n",
       "      <td>515400</td>\n",
       "      <td>7227600967</td>\n",
       "    </tr>\n",
       "    <tr>\n",
       "      <th>4</th>\n",
       "      <td>401111370</td>\n",
       "      <td>0</td>\n",
       "      <td>129950000</td>\n",
       "      <td>508800</td>\n",
       "      <td>-129950000</td>\n",
       "    </tr>\n",
       "  </tbody>\n",
       "</table>\n",
       "</div>"
      ],
      "text/plain": [
       "     SL_CODE          DBT        CRD  MAIN_CODE          SUM\n",
       "0  501073102     54898837          0     600400     54898837\n",
       "1  501073210   6586589538          0     613500   6586589538\n",
       "2  501073211  52724428135          0     613300  52724428135\n",
       "3  501080401   7227600967          0     515400   7227600967\n",
       "4  401111370            0  129950000     508800   -129950000"
      ]
     },
     "execution_count": 426,
     "metadata": {},
     "output_type": "execute_result"
    }
   ],
   "source": [
    "data.head()"
   ]
  },
  {
   "cell_type": "code",
   "execution_count": 427,
   "id": "b26f041e",
   "metadata": {},
   "outputs": [],
   "source": [
    "data = data.drop([\"SL_CODE\", \"MAIN_CODE\"], axis=1)"
   ]
  },
  {
   "cell_type": "code",
   "execution_count": 428,
   "id": "83b527dd",
   "metadata": {},
   "outputs": [],
   "source": [
    "input_data = data.drop('SUM', axis=1)"
   ]
  },
  {
   "cell_type": "code",
   "execution_count": 429,
   "id": "0f2492b3",
   "metadata": {},
   "outputs": [],
   "source": [
    "output_data = data['SUM']"
   ]
  },
  {
   "cell_type": "code",
   "execution_count": 430,
   "id": "709961f7",
   "metadata": {},
   "outputs": [],
   "source": [
    "input_data = torch.tensor(input_data.values).type(torch.float32)\n",
    "output_data = torch.tensor(output_data).type(torch.float32)"
   ]
  },
  {
   "cell_type": "code",
   "execution_count": 431,
   "id": "3c00ec61",
   "metadata": {},
   "outputs": [],
   "source": [
    "output_data = output_data.unsqueeze(dim=1)"
   ]
  },
  {
   "cell_type": "code",
   "execution_count": 336,
   "id": "1bf3c820",
   "metadata": {},
   "outputs": [],
   "source": [
    "class LinearRegression(nn.Module):\n",
    "    def __init__(self):\n",
    "        super().__init__()\n",
    "        self.layer1 = nn.Linear(2, 10)\n",
    "        self.layer2 = nn.Linear(10, 10)\n",
    "        self.layer3 = nn.Linear(10, 1)\n",
    "        self.relu = nn.ReLU()\n",
    "        \n",
    "    def forward(self, x):\n",
    "        x = self.layer3(self.relu(self.layer2(self.relu(self.layer1(x)))))\n",
    "        return x"
   ]
  },
  {
   "cell_type": "code",
   "execution_count": 337,
   "id": "760dda66",
   "metadata": {},
   "outputs": [],
   "source": [
    "model = LinearRegression()"
   ]
  },
  {
   "cell_type": "code",
   "execution_count": 360,
   "id": "00679c5d",
   "metadata": {},
   "outputs": [],
   "source": [
    "loss_fn = nn.L1Loss()\n",
    "\n",
    "optimizer = torch.optim.Adam(params=model.parameters(), lr=0.000000001)"
   ]
  },
  {
   "cell_type": "code",
   "execution_count": 361,
   "id": "ab8b795e",
   "metadata": {},
   "outputs": [
    {
     "name": "stdout",
     "output_type": "stream",
     "text": [
      "Epoch: 0 | Loss: 13757.4267578125\n",
      "Epoch: 100 | Loss: 13757.4267578125\n",
      "Epoch: 200 | Loss: 13757.4267578125\n",
      "Epoch: 300 | Loss: 13757.4267578125\n",
      "Epoch: 400 | Loss: 13757.4267578125\n",
      "Epoch: 500 | Loss: 13757.4267578125\n",
      "Epoch: 600 | Loss: 13757.4267578125\n",
      "Epoch: 700 | Loss: 13757.4267578125\n",
      "Epoch: 800 | Loss: 13757.4267578125\n",
      "Epoch: 900 | Loss: 13757.4267578125\n",
      "Epoch: 1000 | Loss: 13757.4267578125\n",
      "Epoch: 1100 | Loss: 13757.4267578125\n",
      "Epoch: 1200 | Loss: 13757.4267578125\n",
      "Epoch: 1300 | Loss: 13757.4267578125\n",
      "Epoch: 1400 | Loss: 13757.4267578125\n",
      "Epoch: 1500 | Loss: 13757.4267578125\n",
      "Epoch: 1600 | Loss: 13757.4267578125\n",
      "Epoch: 1700 | Loss: 13757.4267578125\n",
      "Epoch: 1800 | Loss: 13757.4267578125\n",
      "Epoch: 1900 | Loss: 13757.4267578125\n",
      "Epoch: 2000 | Loss: 13757.4267578125\n",
      "Epoch: 2100 | Loss: 13757.4267578125\n",
      "Epoch: 2200 | Loss: 13757.4267578125\n",
      "Epoch: 2300 | Loss: 13757.4267578125\n",
      "Epoch: 2400 | Loss: 13757.4267578125\n",
      "Epoch: 2500 | Loss: 13757.4267578125\n",
      "Epoch: 2600 | Loss: 13757.4267578125\n",
      "Epoch: 2700 | Loss: 13757.4267578125\n",
      "Epoch: 2800 | Loss: 13757.4267578125\n",
      "Epoch: 2900 | Loss: 13757.4267578125\n",
      "Epoch: 3000 | Loss: 13757.4267578125\n",
      "Epoch: 3100 | Loss: 13757.4267578125\n",
      "Epoch: 3200 | Loss: 13757.4267578125\n",
      "Epoch: 3300 | Loss: 13757.4267578125\n",
      "Epoch: 3400 | Loss: 13757.4267578125\n",
      "Epoch: 3500 | Loss: 13757.4267578125\n",
      "Epoch: 3600 | Loss: 13757.4267578125\n",
      "Epoch: 3700 | Loss: 13757.4267578125\n",
      "Epoch: 3800 | Loss: 13757.4267578125\n",
      "Epoch: 3900 | Loss: 13757.4267578125\n",
      "Epoch: 4000 | Loss: 13757.4267578125\n",
      "Epoch: 4100 | Loss: 13757.4267578125\n",
      "Epoch: 4200 | Loss: 13757.4267578125\n",
      "Epoch: 4300 | Loss: 13757.4267578125\n",
      "Epoch: 4400 | Loss: 13757.4267578125\n",
      "Epoch: 4500 | Loss: 13757.4267578125\n",
      "Epoch: 4600 | Loss: 13757.4267578125\n",
      "Epoch: 4700 | Loss: 13757.4267578125\n",
      "Epoch: 4800 | Loss: 13757.4267578125\n",
      "Epoch: 4900 | Loss: 13757.4267578125\n"
     ]
    }
   ],
   "source": [
    "epochs = 5000\n",
    "for epoch in range(epochs):\n",
    "    model.train()\n",
    "    X_preds = model(input_data)\n",
    "    loss = loss_fn(output_data, X_preds)\n",
    "    optimizer.zero_grad()\n",
    "    loss.backward()\n",
    "    optimizer.step()\n",
    "    \n",
    "    if epoch % 100 == 0:\n",
    "        print(f\"Epoch: {epoch} | Loss: {loss}\")"
   ]
  },
  {
   "cell_type": "code",
   "execution_count": 362,
   "id": "9eaa82ef",
   "metadata": {},
   "outputs": [
    {
     "data": {
      "text/plain": [
       "tensor([74590840.], grad_fn=<AddBackward0>)"
      ]
     },
     "execution_count": 362,
     "metadata": {},
     "output_type": "execute_result"
    }
   ],
   "source": [
    "sample = torch.tensor([78000000, 4000000], dtype=torch.float32)\n",
    "test = model(sample)\n",
    "test"
   ]
  },
  {
   "cell_type": "code",
   "execution_count": 432,
   "id": "09e8b506",
   "metadata": {},
   "outputs": [
    {
     "data": {
      "text/plain": [
       "(LinearRegressionModelV2(\n",
       "   (linear_layer): Linear(in_features=2, out_features=1, bias=True)\n",
       " ),\n",
       " OrderedDict([('linear_layer.weight', tensor([[0.5406, 0.5869]])),\n",
       "              ('linear_layer.bias', tensor([-0.1657]))]))"
      ]
     },
     "execution_count": 432,
     "metadata": {},
     "output_type": "execute_result"
    }
   ],
   "source": [
    "class LinearRegressionModelV2(nn.Module):\n",
    "    def __init__(self):\n",
    "        super().__init__()\n",
    "        # Use nn.Linear() for creating the model parameters / also called: linear transform, probing layer, fully connected layer, dense layer\n",
    "        self.linear_layer = nn.Linear(in_features=2,\n",
    "                                      out_features=1)\n",
    "    \n",
    "    def forward(self, x: torch.Tensor) -> torch.Tensor:\n",
    "        return self.linear_layer(x)\n",
    "\n",
    "# Set the manual seed\n",
    "torch.manual_seed(42)\n",
    "model_1 = LinearRegressionModelV2()\n",
    "model_1, model_1.state_dict()"
   ]
  },
  {
   "cell_type": "code",
   "execution_count": 450,
   "id": "076855da",
   "metadata": {},
   "outputs": [],
   "source": [
    "# Setup loss function\n",
    "loss_fn = nn.L1Loss() # same as MAE\n",
    "\n",
    "# Setup our optimizer\n",
    "optimizer = torch.optim.Adam(params=model_1.parameters(), \n",
    "                            lr=0.0000001)"
   ]
  },
  {
   "cell_type": "code",
   "execution_count": 451,
   "id": "04e3b944",
   "metadata": {},
   "outputs": [
    {
     "name": "stdout",
     "output_type": "stream",
     "text": [
      "Epoch: 0 | Loss: 62907.5390625\n",
      "Epoch: 100 | Loss: 0.09427911043167114\n",
      "Epoch: 200 | Loss: 0.0942787304520607\n",
      "Epoch: 300 | Loss: 0.0942784771323204\n",
      "Epoch: 400 | Loss: 0.09427794069051743\n",
      "Epoch: 500 | Loss: 0.09427718073129654\n",
      "Epoch: 600 | Loss: 0.09427664428949356\n",
      "Epoch: 700 | Loss: 0.09427616000175476\n",
      "Epoch: 800 | Loss: 0.09427555650472641\n",
      "Epoch: 900 | Loss: 0.09427501261234283\n",
      "Epoch: 1000 | Loss: 0.09414659440517426\n",
      "Epoch: 1100 | Loss: 0.09414602816104889\n",
      "Epoch: 1200 | Loss: 0.09414554387331009\n",
      "Epoch: 1300 | Loss: 0.09414492547512054\n",
      "Epoch: 1400 | Loss: 0.09414439648389816\n",
      "Epoch: 1500 | Loss: 0.09414364397525787\n",
      "Epoch: 1600 | Loss: 0.09414315223693848\n",
      "Epoch: 1700 | Loss: 0.0941426157951355\n",
      "Epoch: 1800 | Loss: 0.09414200484752655\n",
      "Epoch: 1900 | Loss: 0.09414144605398178\n",
      "Epoch: 2000 | Loss: 0.09413839131593704\n",
      "Epoch: 2100 | Loss: 0.09413789957761765\n",
      "Epoch: 2200 | Loss: 0.09413736313581467\n",
      "Epoch: 2300 | Loss: 0.09413676708936691\n",
      "Epoch: 2400 | Loss: 0.09413623064756393\n",
      "Epoch: 2500 | Loss: 0.09413573145866394\n",
      "Epoch: 2600 | Loss: 0.09413497149944305\n",
      "Epoch: 2700 | Loss: 0.09413441270589828\n",
      "Epoch: 2800 | Loss: 0.09413380920886993\n",
      "Epoch: 2900 | Loss: 0.09413328021764755\n"
     ]
    }
   ],
   "source": [
    "torch.manual_seed(42)\n",
    "\n",
    "epochs = 3000\n",
    "\n",
    "# Put data on the target device (device agnostic code for data) \n",
    "# X_train = X_train.to(device)\n",
    "# y_train = y_train.to(device)\n",
    "# X_test = X_test.to(device)\n",
    "# y_test = y_test.to(device)\n",
    "\n",
    "for epoch in range(epochs):\n",
    "    model_1.train()\n",
    "\n",
    "    # 1. Forward pass\n",
    "    y_pred = model_1(input_data)\n",
    "\n",
    "    # 2. Calculate the loss\n",
    "    loss = loss_fn(y_pred, output_data)\n",
    "\n",
    "    # 3. Optimizer zero grad\n",
    "    optimizer.zero_grad()\n",
    "\n",
    "    # 4. Perform backpropagation\n",
    "    loss.backward()\n",
    "\n",
    "    # 5. Optimizer step\n",
    "    optimizer.step()\n",
    "\n",
    "    ### Testing\n",
    "#     model_1.eval()\n",
    "#     with torch.inference_mode():\n",
    "#     test_pred = model_1(X_test)\n",
    "\n",
    "#     test_loss = loss_fn(test_pred, y_test)\n",
    "\n",
    "    # Print out what's happening\n",
    "    if epoch % 100 == 0: \n",
    "#     print(f\"Epoch: {epoch} | Loss: {loss} | Test loss: {test_loss}\")\n",
    "        print(f\"Epoch: {epoch} | Loss: {loss}\")"
   ]
  },
  {
   "cell_type": "code",
   "execution_count": 452,
   "id": "c5a554ac",
   "metadata": {},
   "outputs": [
    {
     "data": {
      "text/plain": [
       "tensor([55000000.], grad_fn=<AddBackward0>)"
      ]
     },
     "execution_count": 452,
     "metadata": {},
     "output_type": "execute_result"
    }
   ],
   "source": [
    "sample = torch.tensor([155000000, 100000000], dtype=torch.float32)\n",
    "test = model_1(sample)\n",
    "test"
   ]
  },
  {
   "cell_type": "code",
   "execution_count": 66,
   "id": "fe3cb8c8",
   "metadata": {},
   "outputs": [],
   "source": [
    "data_new = pd.read_excel(\"parsis_new.xlsx\")"
   ]
  },
  {
   "cell_type": "code",
   "execution_count": 67,
   "id": "db249c76",
   "metadata": {},
   "outputs": [
    {
     "data": {
      "text/html": [
       "<div>\n",
       "<style scoped>\n",
       "    .dataframe tbody tr th:only-of-type {\n",
       "        vertical-align: middle;\n",
       "    }\n",
       "\n",
       "    .dataframe tbody tr th {\n",
       "        vertical-align: top;\n",
       "    }\n",
       "\n",
       "    .dataframe thead th {\n",
       "        text-align: right;\n",
       "    }\n",
       "</style>\n",
       "<table border=\"1\" class=\"dataframe\">\n",
       "  <thead>\n",
       "    <tr style=\"text-align: right;\">\n",
       "      <th></th>\n",
       "      <th>SL_CODE</th>\n",
       "      <th>DBT</th>\n",
       "      <th>CRD</th>\n",
       "      <th>MAIN_CODE</th>\n",
       "    </tr>\n",
       "  </thead>\n",
       "  <tbody>\n",
       "    <tr>\n",
       "      <th>0</th>\n",
       "      <td>501073102</td>\n",
       "      <td>54898837</td>\n",
       "      <td>0</td>\n",
       "      <td>600400</td>\n",
       "    </tr>\n",
       "    <tr>\n",
       "      <th>1</th>\n",
       "      <td>501073210</td>\n",
       "      <td>6586589538</td>\n",
       "      <td>0</td>\n",
       "      <td>613500</td>\n",
       "    </tr>\n",
       "    <tr>\n",
       "      <th>2</th>\n",
       "      <td>501073211</td>\n",
       "      <td>52724428135</td>\n",
       "      <td>0</td>\n",
       "      <td>613300</td>\n",
       "    </tr>\n",
       "    <tr>\n",
       "      <th>3</th>\n",
       "      <td>501080401</td>\n",
       "      <td>7227600967</td>\n",
       "      <td>0</td>\n",
       "      <td>515400</td>\n",
       "    </tr>\n",
       "    <tr>\n",
       "      <th>4</th>\n",
       "      <td>401111370</td>\n",
       "      <td>0</td>\n",
       "      <td>129950000</td>\n",
       "      <td>508800</td>\n",
       "    </tr>\n",
       "  </tbody>\n",
       "</table>\n",
       "</div>"
      ],
      "text/plain": [
       "     SL_CODE          DBT        CRD  MAIN_CODE\n",
       "0  501073102     54898837          0     600400\n",
       "1  501073210   6586589538          0     613500\n",
       "2  501073211  52724428135          0     613300\n",
       "3  501080401   7227600967          0     515400\n",
       "4  401111370            0  129950000     508800"
      ]
     },
     "execution_count": 67,
     "metadata": {},
     "output_type": "execute_result"
    }
   ],
   "source": [
    "data_new.head()\n",
    "input_new = data_new.drop('SUM', axis=1)\n",
    "input_new.head()"
   ]
  },
  {
   "cell_type": "code",
   "execution_count": 6,
   "id": "53b699ba",
   "metadata": {},
   "outputs": [],
   "source": [
    "input_new = torch.tensor(input_new.values).type(torch.float32)"
   ]
  },
  {
   "cell_type": "code",
   "execution_count": 5,
   "id": "d21694e3",
   "metadata": {},
   "outputs": [
    {
     "data": {
      "text/plain": [
       "(LinearRegressionModelV3(\n",
       "   (linear_layer): Linear(in_features=4, out_features=1, bias=True)\n",
       " ),\n",
       " OrderedDict([('linear_layer.weight',\n",
       "               tensor([[ 0.3823,  0.4150, -0.1171,  0.4593]])),\n",
       "              ('linear_layer.bias', tensor([-0.1096]))]))"
      ]
     },
     "execution_count": 5,
     "metadata": {},
     "output_type": "execute_result"
    }
   ],
   "source": [
    "class LinearRegressionModelV3(nn.Module):\n",
    "    def __init__(self):\n",
    "        super().__init__()\n",
    "        # Use nn.Linear() for creating the model parameters / also called: linear transform, probing layer, fully connected layer, dense layer\n",
    "        self.linear_layer = nn.Linear(in_features=4,\n",
    "                                      out_features=1)\n",
    "    \n",
    "    def forward(self, x: torch.Tensor) -> torch.Tensor:\n",
    "        return self.linear_layer(x)\n",
    "\n",
    "# Set the manual seed\n",
    "torch.manual_seed(42)\n",
    "model_2 = LinearRegressionModelV3()\n",
    "model_2, model_2.state_dict()"
   ]
  },
  {
   "cell_type": "code",
   "execution_count": 493,
   "id": "45f54c5e",
   "metadata": {},
   "outputs": [],
   "source": [
    "# Setup loss function\n",
    "loss_fn = nn.L1Loss() # same as MAE\n",
    "\n",
    "# Setup our optimizer\n",
    "optimizer = torch.optim.Adam(params=model_2.parameters(), \n",
    "                            lr=0.00000000001)"
   ]
  },
  {
   "cell_type": "code",
   "execution_count": 494,
   "id": "e19460b3",
   "metadata": {},
   "outputs": [
    {
     "name": "stdout",
     "output_type": "stream",
     "text": [
      "Epoch: 0 | Loss: 0.04439706727862358\n",
      "Epoch: 100 | Loss: 0.04432680457830429\n",
      "Epoch: 200 | Loss: 0.0439237505197525\n",
      "Epoch: 300 | Loss: 0.04390479251742363\n",
      "Epoch: 400 | Loss: 0.04390447214245796\n",
      "Epoch: 500 | Loss: 0.04391338303685188\n",
      "Epoch: 600 | Loss: 0.04389079287648201\n",
      "Epoch: 700 | Loss: 0.04390574246644974\n",
      "Epoch: 800 | Loss: 0.04428818076848984\n",
      "Epoch: 900 | Loss: 0.04399435222148895\n",
      "Epoch: 1000 | Loss: 0.043931540101766586\n",
      "Epoch: 1100 | Loss: 0.043956954032182693\n",
      "Epoch: 1200 | Loss: 0.043917495757341385\n",
      "Epoch: 1300 | Loss: 0.04391724616289139\n",
      "Epoch: 1400 | Loss: 0.04396079480648041\n",
      "Epoch: 1500 | Loss: 0.04402059316635132\n",
      "Epoch: 1600 | Loss: 0.04387694224715233\n",
      "Epoch: 1700 | Loss: 0.043930135667324066\n",
      "Epoch: 1800 | Loss: 0.04396044462919235\n",
      "Epoch: 1900 | Loss: 0.04392709955573082\n",
      "Epoch: 2000 | Loss: 0.043885424733161926\n",
      "Epoch: 2100 | Loss: 0.043905068188905716\n",
      "Epoch: 2200 | Loss: 0.04393460229039192\n",
      "Epoch: 2300 | Loss: 0.04430156946182251\n",
      "Epoch: 2400 | Loss: 0.043989408761262894\n",
      "Epoch: 2500 | Loss: 0.04399782791733742\n",
      "Epoch: 2600 | Loss: 0.04432108998298645\n",
      "Epoch: 2700 | Loss: 0.04398263245820999\n",
      "Epoch: 2800 | Loss: 0.043982770293951035\n",
      "Epoch: 2900 | Loss: 0.04390493035316467\n"
     ]
    }
   ],
   "source": [
    "torch.manual_seed(42)\n",
    "\n",
    "epochs = 3000\n",
    "\n",
    "# Put data on the target device (device agnostic code for data) \n",
    "# X_train = X_train.to(device)\n",
    "# y_train = y_train.to(device)\n",
    "# X_test = X_test.to(device)\n",
    "# y_test = y_test.to(device)\n",
    "\n",
    "for epoch in range(epochs):\n",
    "    model_2.train()\n",
    "\n",
    "    # 1. Forward pass\n",
    "    y_pred = model_2(input_new)\n",
    "\n",
    "    # 2. Calculate the loss\n",
    "    loss = loss_fn(y_pred, output_data)\n",
    "\n",
    "    # 3. Optimizer zero grad\n",
    "    optimizer.zero_grad()\n",
    "\n",
    "    # 4. Perform backpropagation\n",
    "    loss.backward()\n",
    "\n",
    "    # 5. Optimizer step\n",
    "    optimizer.step()\n",
    "\n",
    "    ### Testing\n",
    "#     model_1.eval()\n",
    "#     with torch.inference_mode():\n",
    "#     test_pred = model_1(X_test)\n",
    "\n",
    "#     test_loss = loss_fn(test_pred, y_test)\n",
    "\n",
    "    # Print out what's happening\n",
    "    if epoch % 100 == 0: \n",
    "#     print(f\"Epoch: {epoch} | Loss: {loss} | Test loss: {test_loss}\")\n",
    "        print(f\"Epoch: {epoch} | Loss: {loss}\")"
   ]
  },
  {
   "cell_type": "code",
   "execution_count": 498,
   "id": "6d9f1466",
   "metadata": {},
   "outputs": [
    {
     "data": {
      "text/html": [
       "<div>\n",
       "<style scoped>\n",
       "    .dataframe tbody tr th:only-of-type {\n",
       "        vertical-align: middle;\n",
       "    }\n",
       "\n",
       "    .dataframe tbody tr th {\n",
       "        vertical-align: top;\n",
       "    }\n",
       "\n",
       "    .dataframe thead th {\n",
       "        text-align: right;\n",
       "    }\n",
       "</style>\n",
       "<table border=\"1\" class=\"dataframe\">\n",
       "  <thead>\n",
       "    <tr style=\"text-align: right;\">\n",
       "      <th></th>\n",
       "      <th>SL_CODE</th>\n",
       "      <th>DBT</th>\n",
       "      <th>CRD</th>\n",
       "      <th>SUM</th>\n",
       "    </tr>\n",
       "    <tr>\n",
       "      <th>MAIN_CODE</th>\n",
       "      <th></th>\n",
       "      <th></th>\n",
       "      <th></th>\n",
       "      <th></th>\n",
       "    </tr>\n",
       "  </thead>\n",
       "  <tbody>\n",
       "    <tr>\n",
       "      <th>0</th>\n",
       "      <td>2854678023</td>\n",
       "      <td>1761330573356</td>\n",
       "      <td>30765754013</td>\n",
       "      <td>1730564819343</td>\n",
       "    </tr>\n",
       "    <tr>\n",
       "      <th>100500</th>\n",
       "      <td>303060306</td>\n",
       "      <td>11390149614</td>\n",
       "      <td>0</td>\n",
       "      <td>11390149614</td>\n",
       "    </tr>\n",
       "    <tr>\n",
       "      <th>100700</th>\n",
       "      <td>101040101</td>\n",
       "      <td>39579000</td>\n",
       "      <td>0</td>\n",
       "      <td>39579000</td>\n",
       "    </tr>\n",
       "    <tr>\n",
       "      <th>101900</th>\n",
       "      <td>104010101</td>\n",
       "      <td>249389455013</td>\n",
       "      <td>0</td>\n",
       "      <td>249389455013</td>\n",
       "    </tr>\n",
       "    <tr>\n",
       "      <th>102100</th>\n",
       "      <td>104050101</td>\n",
       "      <td>2904644812613</td>\n",
       "      <td>0</td>\n",
       "      <td>2904644812613</td>\n",
       "    </tr>\n",
       "    <tr>\n",
       "      <th>...</th>\n",
       "      <td>...</td>\n",
       "      <td>...</td>\n",
       "      <td>...</td>\n",
       "      <td>...</td>\n",
       "    </tr>\n",
       "    <tr>\n",
       "      <th>12000012</th>\n",
       "      <td>27707320666</td>\n",
       "      <td>139027072006588</td>\n",
       "      <td>27793993907603</td>\n",
       "      <td>111233078098985</td>\n",
       "    </tr>\n",
       "    <tr>\n",
       "      <th>81500001</th>\n",
       "      <td>604020101</td>\n",
       "      <td>3358692191875</td>\n",
       "      <td>0</td>\n",
       "      <td>3358692191875</td>\n",
       "    </tr>\n",
       "    <tr>\n",
       "      <th>81500002</th>\n",
       "      <td>1913040503</td>\n",
       "      <td>905470836866</td>\n",
       "      <td>103537443857</td>\n",
       "      <td>801933393009</td>\n",
       "    </tr>\n",
       "    <tr>\n",
       "      <th>81500003</th>\n",
       "      <td>604050201</td>\n",
       "      <td>86420706493</td>\n",
       "      <td>0</td>\n",
       "      <td>86420706493</td>\n",
       "    </tr>\n",
       "    <tr>\n",
       "      <th>81500004</th>\n",
       "      <td>604060201</td>\n",
       "      <td>105536693552</td>\n",
       "      <td>0</td>\n",
       "      <td>105536693552</td>\n",
       "    </tr>\n",
       "  </tbody>\n",
       "</table>\n",
       "<p>184 rows × 4 columns</p>\n",
       "</div>"
      ],
      "text/plain": [
       "               SL_CODE              DBT             CRD              SUM\n",
       "MAIN_CODE                                                               \n",
       "0           2854678023    1761330573356     30765754013    1730564819343\n",
       "100500       303060306      11390149614               0      11390149614\n",
       "100700       101040101         39579000               0         39579000\n",
       "101900       104010101     249389455013               0     249389455013\n",
       "102100       104050101    2904644812613               0    2904644812613\n",
       "...                ...              ...             ...              ...\n",
       "12000012   27707320666  139027072006588  27793993907603  111233078098985\n",
       "81500001     604020101    3358692191875               0    3358692191875\n",
       "81500002    1913040503     905470836866    103537443857     801933393009\n",
       "81500003     604050201      86420706493               0      86420706493\n",
       "81500004     604060201     105536693552               0     105536693552\n",
       "\n",
       "[184 rows x 4 columns]"
      ]
     },
     "execution_count": 498,
     "metadata": {},
     "output_type": "execute_result"
    }
   ],
   "source": [
    "data_new.groupby('MAIN_CODE').sum()"
   ]
  },
  {
   "cell_type": "code",
   "execution_count": 8,
   "id": "722a196f",
   "metadata": {},
   "outputs": [],
   "source": [
    "MODEL_SAVE_PATH = \"./01_pytorch_model_2.pth\"\n",
    "torch.save(obj=model_2.state_dict(),\n",
    "           f=MODEL_SAVE_PATH) "
   ]
  },
  {
   "cell_type": "code",
   "execution_count": 9,
   "id": "4f80e0b8",
   "metadata": {},
   "outputs": [
    {
     "data": {
      "text/plain": [
       "<All keys matched successfully>"
      ]
     },
     "execution_count": 9,
     "metadata": {},
     "output_type": "execute_result"
    }
   ],
   "source": [
    "loaded_model_1 = LinearRegressionModelV3()\n",
    "loaded_model_1.load_state_dict(torch.load(MODEL_SAVE_PATH))"
   ]
  },
  {
   "cell_type": "code",
   "execution_count": 10,
   "id": "a21ded41",
   "metadata": {},
   "outputs": [
    {
     "data": {
      "text/plain": [
       "OrderedDict([('linear_layer.weight',\n",
       "              tensor([[ 8.4879e-10,  1.0000e+00, -1.0000e+00,  5.1590e-08]])),\n",
       "             ('linear_layer.bias', tensor([-0.7144]))])"
      ]
     },
     "execution_count": 10,
     "metadata": {},
     "output_type": "execute_result"
    }
   ],
   "source": [
    "loaded_model_1.state_dict()"
   ]
  },
  {
   "cell_type": "code",
   "execution_count": 11,
   "id": "6fe3a964",
   "metadata": {},
   "outputs": [
    {
     "data": {
      "text/plain": [
       "OrderedDict([('linear_layer.weight',\n",
       "              tensor([[ 0.3823,  0.4150, -0.1171,  0.4593]])),\n",
       "             ('linear_layer.bias', tensor([-0.1096]))])"
      ]
     },
     "execution_count": 11,
     "metadata": {},
     "output_type": "execute_result"
    }
   ],
   "source": [
    "model_2.state_dict()"
   ]
  },
  {
   "cell_type": "code",
   "execution_count": 15,
   "id": "b4af1fc6",
   "metadata": {},
   "outputs": [
    {
     "data": {
      "text/plain": [
       "tensor([54898836.], grad_fn=<AddBackward0>)"
      ]
     },
     "execution_count": 15,
     "metadata": {},
     "output_type": "execute_result"
    }
   ],
   "source": [
    "output_test = loaded_model_1(input_new[0])\n",
    "output_test"
   ]
  },
  {
   "cell_type": "code",
   "execution_count": 16,
   "id": "f04a6de6",
   "metadata": {},
   "outputs": [
    {
     "data": {
      "text/html": [
       "<div>\n",
       "<style scoped>\n",
       "    .dataframe tbody tr th:only-of-type {\n",
       "        vertical-align: middle;\n",
       "    }\n",
       "\n",
       "    .dataframe tbody tr th {\n",
       "        vertical-align: top;\n",
       "    }\n",
       "\n",
       "    .dataframe thead th {\n",
       "        text-align: right;\n",
       "    }\n",
       "</style>\n",
       "<table border=\"1\" class=\"dataframe\">\n",
       "  <thead>\n",
       "    <tr style=\"text-align: right;\">\n",
       "      <th></th>\n",
       "      <th>SL_CODE</th>\n",
       "      <th>DBT</th>\n",
       "      <th>CRD</th>\n",
       "      <th>MAIN_CODE</th>\n",
       "      <th>SUM</th>\n",
       "    </tr>\n",
       "  </thead>\n",
       "  <tbody>\n",
       "    <tr>\n",
       "      <th>0</th>\n",
       "      <td>501073102</td>\n",
       "      <td>54898837</td>\n",
       "      <td>0</td>\n",
       "      <td>600400</td>\n",
       "      <td>54898837</td>\n",
       "    </tr>\n",
       "    <tr>\n",
       "      <th>1</th>\n",
       "      <td>501073210</td>\n",
       "      <td>6586589538</td>\n",
       "      <td>0</td>\n",
       "      <td>613500</td>\n",
       "      <td>6586589538</td>\n",
       "    </tr>\n",
       "    <tr>\n",
       "      <th>2</th>\n",
       "      <td>501073211</td>\n",
       "      <td>52724428135</td>\n",
       "      <td>0</td>\n",
       "      <td>613300</td>\n",
       "      <td>52724428135</td>\n",
       "    </tr>\n",
       "    <tr>\n",
       "      <th>3</th>\n",
       "      <td>501080401</td>\n",
       "      <td>7227600967</td>\n",
       "      <td>0</td>\n",
       "      <td>515400</td>\n",
       "      <td>7227600967</td>\n",
       "    </tr>\n",
       "    <tr>\n",
       "      <th>4</th>\n",
       "      <td>401111370</td>\n",
       "      <td>0</td>\n",
       "      <td>129950000</td>\n",
       "      <td>508800</td>\n",
       "      <td>-129950000</td>\n",
       "    </tr>\n",
       "  </tbody>\n",
       "</table>\n",
       "</div>"
      ],
      "text/plain": [
       "     SL_CODE          DBT        CRD  MAIN_CODE          SUM\n",
       "0  501073102     54898837          0     600400     54898837\n",
       "1  501073210   6586589538          0     613500   6586589538\n",
       "2  501073211  52724428135          0     613300  52724428135\n",
       "3  501080401   7227600967          0     515400   7227600967\n",
       "4  401111370            0  129950000     508800   -129950000"
      ]
     },
     "execution_count": 16,
     "metadata": {},
     "output_type": "execute_result"
    }
   ],
   "source": [
    "data_new.head()"
   ]
  },
  {
   "cell_type": "code",
   "execution_count": 24,
   "id": "e931b6a3",
   "metadata": {},
   "outputs": [],
   "source": [
    "input_numpy = input_new.numpy()"
   ]
  },
  {
   "cell_type": "code",
   "execution_count": 34,
   "id": "bb54b5f4",
   "metadata": {},
   "outputs": [],
   "source": [
    "input_numpy_dataframe = pd.DataFrame(input_numpy)"
   ]
  },
  {
   "cell_type": "code",
   "execution_count": 35,
   "id": "49f6e3ab",
   "metadata": {},
   "outputs": [
    {
     "data": {
      "text/html": [
       "<div>\n",
       "<style scoped>\n",
       "    .dataframe tbody tr th:only-of-type {\n",
       "        vertical-align: middle;\n",
       "    }\n",
       "\n",
       "    .dataframe tbody tr th {\n",
       "        vertical-align: top;\n",
       "    }\n",
       "\n",
       "    .dataframe thead th {\n",
       "        text-align: right;\n",
       "    }\n",
       "</style>\n",
       "<table border=\"1\" class=\"dataframe\">\n",
       "  <thead>\n",
       "    <tr style=\"text-align: right;\">\n",
       "      <th></th>\n",
       "      <th>0</th>\n",
       "      <th>1</th>\n",
       "      <th>2</th>\n",
       "      <th>3</th>\n",
       "    </tr>\n",
       "  </thead>\n",
       "  <tbody>\n",
       "    <tr>\n",
       "      <th>0</th>\n",
       "      <td>501073088.0</td>\n",
       "      <td>5.489884e+07</td>\n",
       "      <td>0.0</td>\n",
       "      <td>600400.0</td>\n",
       "    </tr>\n",
       "    <tr>\n",
       "      <th>1</th>\n",
       "      <td>501073216.0</td>\n",
       "      <td>6.586590e+09</td>\n",
       "      <td>0.0</td>\n",
       "      <td>613500.0</td>\n",
       "    </tr>\n",
       "    <tr>\n",
       "      <th>2</th>\n",
       "      <td>501073216.0</td>\n",
       "      <td>5.272443e+10</td>\n",
       "      <td>0.0</td>\n",
       "      <td>613300.0</td>\n",
       "    </tr>\n",
       "    <tr>\n",
       "      <th>3</th>\n",
       "      <td>501080416.0</td>\n",
       "      <td>7.227601e+09</td>\n",
       "      <td>0.0</td>\n",
       "      <td>515400.0</td>\n",
       "    </tr>\n",
       "    <tr>\n",
       "      <th>4</th>\n",
       "      <td>401111360.0</td>\n",
       "      <td>0.000000e+00</td>\n",
       "      <td>129950000.0</td>\n",
       "      <td>508800.0</td>\n",
       "    </tr>\n",
       "  </tbody>\n",
       "</table>\n",
       "</div>"
      ],
      "text/plain": [
       "             0             1            2         3\n",
       "0  501073088.0  5.489884e+07          0.0  600400.0\n",
       "1  501073216.0  6.586590e+09          0.0  613500.0\n",
       "2  501073216.0  5.272443e+10          0.0  613300.0\n",
       "3  501080416.0  7.227601e+09          0.0  515400.0\n",
       "4  401111360.0  0.000000e+00  129950000.0  508800.0"
      ]
     },
     "execution_count": 35,
     "metadata": {},
     "output_type": "execute_result"
    }
   ],
   "source": [
    "input_numpy_dataframe.head()"
   ]
  },
  {
   "cell_type": "code",
   "execution_count": 36,
   "id": "2bc1731b",
   "metadata": {},
   "outputs": [
    {
     "data": {
      "text/html": [
       "<div>\n",
       "<style scoped>\n",
       "    .dataframe tbody tr th:only-of-type {\n",
       "        vertical-align: middle;\n",
       "    }\n",
       "\n",
       "    .dataframe tbody tr th {\n",
       "        vertical-align: top;\n",
       "    }\n",
       "\n",
       "    .dataframe thead th {\n",
       "        text-align: right;\n",
       "    }\n",
       "</style>\n",
       "<table border=\"1\" class=\"dataframe\">\n",
       "  <thead>\n",
       "    <tr style=\"text-align: right;\">\n",
       "      <th></th>\n",
       "      <th>0</th>\n",
       "      <th>1</th>\n",
       "      <th>2</th>\n",
       "      <th>3</th>\n",
       "    </tr>\n",
       "  </thead>\n",
       "  <tbody>\n",
       "    <tr>\n",
       "      <th>0</th>\n",
       "      <td>501073088.0</td>\n",
       "      <td>5.489884e+07</td>\n",
       "      <td>0.0</td>\n",
       "      <td>600400.0</td>\n",
       "    </tr>\n",
       "    <tr>\n",
       "      <th>126</th>\n",
       "      <td>501020416.0</td>\n",
       "      <td>3.000000e+00</td>\n",
       "      <td>0.0</td>\n",
       "      <td>600400.0</td>\n",
       "    </tr>\n",
       "    <tr>\n",
       "      <th>285</th>\n",
       "      <td>501020192.0</td>\n",
       "      <td>5.261943e+08</td>\n",
       "      <td>0.0</td>\n",
       "      <td>600400.0</td>\n",
       "    </tr>\n",
       "    <tr>\n",
       "      <th>286</th>\n",
       "      <td>501020416.0</td>\n",
       "      <td>1.358900e+05</td>\n",
       "      <td>0.0</td>\n",
       "      <td>600400.0</td>\n",
       "    </tr>\n",
       "    <tr>\n",
       "      <th>422</th>\n",
       "      <td>501020192.0</td>\n",
       "      <td>1.727941e+12</td>\n",
       "      <td>0.0</td>\n",
       "      <td>600400.0</td>\n",
       "    </tr>\n",
       "    <tr>\n",
       "      <th>423</th>\n",
       "      <td>501020192.0</td>\n",
       "      <td>4.229421e+11</td>\n",
       "      <td>0.0</td>\n",
       "      <td>600400.0</td>\n",
       "    </tr>\n",
       "    <tr>\n",
       "      <th>724</th>\n",
       "      <td>501020192.0</td>\n",
       "      <td>7.095890e+09</td>\n",
       "      <td>0.0</td>\n",
       "      <td>600400.0</td>\n",
       "    </tr>\n",
       "    <tr>\n",
       "      <th>858</th>\n",
       "      <td>501020192.0</td>\n",
       "      <td>2.802392e+10</td>\n",
       "      <td>0.0</td>\n",
       "      <td>600400.0</td>\n",
       "    </tr>\n",
       "    <tr>\n",
       "      <th>859</th>\n",
       "      <td>501020416.0</td>\n",
       "      <td>5.456438e+06</td>\n",
       "      <td>0.0</td>\n",
       "      <td>600400.0</td>\n",
       "    </tr>\n",
       "    <tr>\n",
       "      <th>1191</th>\n",
       "      <td>501020128.0</td>\n",
       "      <td>1.397260e+11</td>\n",
       "      <td>0.0</td>\n",
       "      <td>600400.0</td>\n",
       "    </tr>\n",
       "  </tbody>\n",
       "</table>\n",
       "</div>"
      ],
      "text/plain": [
       "                0             1    2         3\n",
       "0     501073088.0  5.489884e+07  0.0  600400.0\n",
       "126   501020416.0  3.000000e+00  0.0  600400.0\n",
       "285   501020192.0  5.261943e+08  0.0  600400.0\n",
       "286   501020416.0  1.358900e+05  0.0  600400.0\n",
       "422   501020192.0  1.727941e+12  0.0  600400.0\n",
       "423   501020192.0  4.229421e+11  0.0  600400.0\n",
       "724   501020192.0  7.095890e+09  0.0  600400.0\n",
       "858   501020192.0  2.802392e+10  0.0  600400.0\n",
       "859   501020416.0  5.456438e+06  0.0  600400.0\n",
       "1191  501020128.0  1.397260e+11  0.0  600400.0"
      ]
     },
     "execution_count": 36,
     "metadata": {},
     "output_type": "execute_result"
    }
   ],
   "source": [
    "input_numpy_dataframe[input_numpy_dataframe[3]==600400]"
   ]
  },
  {
   "cell_type": "code",
   "execution_count": 45,
   "id": "42332ea0",
   "metadata": {},
   "outputs": [
    {
     "data": {
      "text/html": [
       "<div>\n",
       "<style scoped>\n",
       "    .dataframe tbody tr th:only-of-type {\n",
       "        vertical-align: middle;\n",
       "    }\n",
       "\n",
       "    .dataframe tbody tr th {\n",
       "        vertical-align: top;\n",
       "    }\n",
       "\n",
       "    .dataframe thead th {\n",
       "        text-align: right;\n",
       "    }\n",
       "</style>\n",
       "<table border=\"1\" class=\"dataframe\">\n",
       "  <thead>\n",
       "    <tr style=\"text-align: right;\">\n",
       "      <th></th>\n",
       "      <th>401053404</th>\n",
       "      <th>0</th>\n",
       "      <th>914808778</th>\n",
       "      <th>501800</th>\n",
       "    </tr>\n",
       "  </thead>\n",
       "  <tbody>\n",
       "    <tr>\n",
       "      <th>0</th>\n",
       "      <td>401053409</td>\n",
       "      <td>0</td>\n",
       "      <td>8922333039</td>\n",
       "      <td>501800</td>\n",
       "    </tr>\n",
       "    <tr>\n",
       "      <th>1</th>\n",
       "      <td>401053410</td>\n",
       "      <td>0</td>\n",
       "      <td>3930792</td>\n",
       "      <td>501800</td>\n",
       "    </tr>\n",
       "    <tr>\n",
       "      <th>2</th>\n",
       "      <td>116010203</td>\n",
       "      <td>128669417343</td>\n",
       "      <td>0</td>\n",
       "      <td>145400</td>\n",
       "    </tr>\n",
       "    <tr>\n",
       "      <th>3</th>\n",
       "      <td>210050104</td>\n",
       "      <td>0</td>\n",
       "      <td>85451896409</td>\n",
       "      <td>145400</td>\n",
       "    </tr>\n",
       "    <tr>\n",
       "      <th>4</th>\n",
       "      <td>116010204</td>\n",
       "      <td>60883560</td>\n",
       "      <td>0</td>\n",
       "      <td>145600</td>\n",
       "    </tr>\n",
       "    <tr>\n",
       "      <th>...</th>\n",
       "      <td>...</td>\n",
       "      <td>...</td>\n",
       "      <td>...</td>\n",
       "      <td>...</td>\n",
       "    </tr>\n",
       "    <tr>\n",
       "      <th>800</th>\n",
       "      <td>501072101</td>\n",
       "      <td>1593423852270</td>\n",
       "      <td>0</td>\n",
       "      <td>615200</td>\n",
       "    </tr>\n",
       "    <tr>\n",
       "      <th>801</th>\n",
       "      <td>501072101</td>\n",
       "      <td>75932000000</td>\n",
       "      <td>0</td>\n",
       "      <td>615200</td>\n",
       "    </tr>\n",
       "    <tr>\n",
       "      <th>802</th>\n",
       "      <td>501072501</td>\n",
       "      <td>750000000000</td>\n",
       "      <td>0</td>\n",
       "      <td>620200</td>\n",
       "    </tr>\n",
       "    <tr>\n",
       "      <th>803</th>\n",
       "      <td>501070101</td>\n",
       "      <td>572000000</td>\n",
       "      <td>0</td>\n",
       "      <td>625200</td>\n",
       "    </tr>\n",
       "    <tr>\n",
       "      <th>804</th>\n",
       "      <td>501070101</td>\n",
       "      <td>74219028543</td>\n",
       "      <td>0</td>\n",
       "      <td>625200</td>\n",
       "    </tr>\n",
       "  </tbody>\n",
       "</table>\n",
       "<p>805 rows × 4 columns</p>\n",
       "</div>"
      ],
      "text/plain": [
       "     401053404              0    914808778  501800\n",
       "0    401053409              0   8922333039  501800\n",
       "1    401053410              0      3930792  501800\n",
       "2    116010203   128669417343            0  145400\n",
       "3    210050104              0  85451896409  145400\n",
       "4    116010204       60883560            0  145600\n",
       "..         ...            ...          ...     ...\n",
       "800  501072101  1593423852270            0  615200\n",
       "801  501072101    75932000000            0  615200\n",
       "802  501072501   750000000000            0  620200\n",
       "803  501070101      572000000            0  625200\n",
       "804  501070101    74219028543            0  625200\n",
       "\n",
       "[805 rows x 4 columns]"
      ]
     },
     "execution_count": 45,
     "metadata": {},
     "output_type": "execute_result"
    }
   ],
   "source": [
    "data_test = pd.read_excel('data5.xlsx')\n",
    "data_test"
   ]
  },
  {
   "cell_type": "code",
   "execution_count": 47,
   "id": "987bc7c2",
   "metadata": {},
   "outputs": [],
   "source": [
    "data_64_t = torch.tensor(data_64.values).type(torch.float)"
   ]
  },
  {
   "cell_type": "code",
   "execution_count": 46,
   "id": "93635001",
   "metadata": {},
   "outputs": [
    {
     "data": {
      "text/html": [
       "<div>\n",
       "<style scoped>\n",
       "    .dataframe tbody tr th:only-of-type {\n",
       "        vertical-align: middle;\n",
       "    }\n",
       "\n",
       "    .dataframe tbody tr th {\n",
       "        vertical-align: top;\n",
       "    }\n",
       "\n",
       "    .dataframe thead th {\n",
       "        text-align: right;\n",
       "    }\n",
       "</style>\n",
       "<table border=\"1\" class=\"dataframe\">\n",
       "  <thead>\n",
       "    <tr style=\"text-align: right;\">\n",
       "      <th></th>\n",
       "      <th>401053404</th>\n",
       "      <th>0</th>\n",
       "      <th>914808778</th>\n",
       "      <th>501800</th>\n",
       "    </tr>\n",
       "  </thead>\n",
       "  <tbody>\n",
       "    <tr>\n",
       "      <th>481</th>\n",
       "      <td>501020201</td>\n",
       "      <td>1233324957388</td>\n",
       "      <td>0</td>\n",
       "      <td>600400</td>\n",
       "    </tr>\n",
       "    <tr>\n",
       "      <th>482</th>\n",
       "      <td>501020414</td>\n",
       "      <td>45139401</td>\n",
       "      <td>0</td>\n",
       "      <td>600400</td>\n",
       "    </tr>\n",
       "    <tr>\n",
       "      <th>483</th>\n",
       "      <td>501020419</td>\n",
       "      <td>21086236</td>\n",
       "      <td>0</td>\n",
       "      <td>600400</td>\n",
       "    </tr>\n",
       "    <tr>\n",
       "      <th>583</th>\n",
       "      <td>501020422</td>\n",
       "      <td>24741943</td>\n",
       "      <td>0</td>\n",
       "      <td>600400</td>\n",
       "    </tr>\n",
       "    <tr>\n",
       "      <th>584</th>\n",
       "      <td>501020203</td>\n",
       "      <td>70205140</td>\n",
       "      <td>0</td>\n",
       "      <td>600400</td>\n",
       "    </tr>\n",
       "    <tr>\n",
       "      <th>798</th>\n",
       "      <td>501020201</td>\n",
       "      <td>975165000000</td>\n",
       "      <td>0</td>\n",
       "      <td>600400</td>\n",
       "    </tr>\n",
       "  </tbody>\n",
       "</table>\n",
       "</div>"
      ],
      "text/plain": [
       "     401053404              0  914808778  501800\n",
       "481  501020201  1233324957388          0  600400\n",
       "482  501020414       45139401          0  600400\n",
       "483  501020419       21086236          0  600400\n",
       "583  501020422       24741943          0  600400\n",
       "584  501020203       70205140          0  600400\n",
       "798  501020201   975165000000          0  600400"
      ]
     },
     "execution_count": 46,
     "metadata": {},
     "output_type": "execute_result"
    }
   ],
   "source": [
    "data_64 = data_test[data_test[501800]==600400]\n",
    "data_64"
   ]
  },
  {
   "cell_type": "code",
   "execution_count": 54,
   "id": "6077776b",
   "metadata": {},
   "outputs": [],
   "source": [
    "with torch.no_grad():\n",
    "    natije = loaded_model_1(data_64_t)"
   ]
  },
  {
   "cell_type": "code",
   "execution_count": 55,
   "id": "e9267f60",
   "metadata": {},
   "outputs": [
    {
     "data": {
      "text/plain": [
       "tensor([[1.2333e+12],\n",
       "        [4.5139e+07],\n",
       "        [2.1086e+07],\n",
       "        [2.4742e+07],\n",
       "        [7.0205e+07],\n",
       "        [9.7516e+11]])"
      ]
     },
     "execution_count": 55,
     "metadata": {},
     "output_type": "execute_result"
    }
   ],
   "source": [
    "natije"
   ]
  },
  {
   "cell_type": "code",
   "execution_count": 56,
   "id": "29705f10",
   "metadata": {},
   "outputs": [
    {
     "data": {
      "text/plain": [
       "tensor(2.2087e+12)"
      ]
     },
     "execution_count": 56,
     "metadata": {},
     "output_type": "execute_result"
    }
   ],
   "source": [
    "torch.sum(natije)"
   ]
  },
  {
   "cell_type": "code",
   "execution_count": 57,
   "id": "26b997e5",
   "metadata": {},
   "outputs": [],
   "source": [
    "out_put_numpy = natije.numpy()"
   ]
  },
  {
   "cell_type": "code",
   "execution_count": 58,
   "id": "2e26f027",
   "metadata": {},
   "outputs": [
    {
     "data": {
      "text/html": [
       "<div>\n",
       "<style scoped>\n",
       "    .dataframe tbody tr th:only-of-type {\n",
       "        vertical-align: middle;\n",
       "    }\n",
       "\n",
       "    .dataframe tbody tr th {\n",
       "        vertical-align: top;\n",
       "    }\n",
       "\n",
       "    .dataframe thead th {\n",
       "        text-align: right;\n",
       "    }\n",
       "</style>\n",
       "<table border=\"1\" class=\"dataframe\">\n",
       "  <thead>\n",
       "    <tr style=\"text-align: right;\">\n",
       "      <th></th>\n",
       "      <th>0</th>\n",
       "    </tr>\n",
       "  </thead>\n",
       "  <tbody>\n",
       "    <tr>\n",
       "      <th>0</th>\n",
       "      <td>1.233325e+12</td>\n",
       "    </tr>\n",
       "    <tr>\n",
       "      <th>1</th>\n",
       "      <td>4.513940e+07</td>\n",
       "    </tr>\n",
       "    <tr>\n",
       "      <th>2</th>\n",
       "      <td>2.108624e+07</td>\n",
       "    </tr>\n",
       "    <tr>\n",
       "      <th>3</th>\n",
       "      <td>2.474194e+07</td>\n",
       "    </tr>\n",
       "    <tr>\n",
       "      <th>4</th>\n",
       "      <td>7.020514e+07</td>\n",
       "    </tr>\n",
       "    <tr>\n",
       "      <th>5</th>\n",
       "      <td>9.751650e+11</td>\n",
       "    </tr>\n",
       "  </tbody>\n",
       "</table>\n",
       "</div>"
      ],
      "text/plain": [
       "              0\n",
       "0  1.233325e+12\n",
       "1  4.513940e+07\n",
       "2  2.108624e+07\n",
       "3  2.474194e+07\n",
       "4  7.020514e+07\n",
       "5  9.751650e+11"
      ]
     },
     "execution_count": 58,
     "metadata": {},
     "output_type": "execute_result"
    }
   ],
   "source": [
    "output_df = pd.DataFrame(out_put_numpy)\n",
    "output_df"
   ]
  },
  {
   "cell_type": "code",
   "execution_count": 60,
   "id": "97e16fcd",
   "metadata": {},
   "outputs": [],
   "source": [
    "import numpy as np"
   ]
  },
  {
   "cell_type": "code",
   "execution_count": 61,
   "id": "ee7d65f8",
   "metadata": {},
   "outputs": [
    {
     "data": {
      "text/plain": [
       "2208651300000.0"
      ]
     },
     "execution_count": 61,
     "metadata": {},
     "output_type": "execute_result"
    }
   ],
   "source": [
    "np.sum(output_df[0])"
   ]
  },
  {
   "cell_type": "code",
   "execution_count": 65,
   "id": "e1a858b1",
   "metadata": {},
   "outputs": [
    {
     "name": "stdout",
     "output_type": "stream",
     "text": [
      "              0\n",
      "0  1.233325e+12\n",
      "1  4.513940e+07\n",
      "2  2.108624e+07\n"
     ]
    }
   ],
   "source": [
    "print(output_df[:3])"
   ]
  },
  {
   "cell_type": "code",
   "execution_count": 68,
   "id": "b723ab7a",
   "metadata": {},
   "outputs": [],
   "source": [
    "mapinfo = pd.read_excel(\"MAPINFO.xlsx\")"
   ]
  },
  {
   "cell_type": "code",
   "execution_count": 69,
   "id": "1ae2beaf",
   "metadata": {},
   "outputs": [
    {
     "data": {
      "text/html": [
       "<div>\n",
       "<style scoped>\n",
       "    .dataframe tbody tr th:only-of-type {\n",
       "        vertical-align: middle;\n",
       "    }\n",
       "\n",
       "    .dataframe tbody tr th {\n",
       "        vertical-align: top;\n",
       "    }\n",
       "\n",
       "    .dataframe thead th {\n",
       "        text-align: right;\n",
       "    }\n",
       "</style>\n",
       "<table border=\"1\" class=\"dataframe\">\n",
       "  <thead>\n",
       "    <tr style=\"text-align: right;\">\n",
       "      <th></th>\n",
       "      <th>SL_CODE</th>\n",
       "      <th>DBT</th>\n",
       "      <th>CRD</th>\n",
       "      <th>MAIN_CODE</th>\n",
       "      <th>SUM</th>\n",
       "    </tr>\n",
       "  </thead>\n",
       "  <tbody>\n",
       "    <tr>\n",
       "      <th>0</th>\n",
       "      <td>501073102</td>\n",
       "      <td>54898837</td>\n",
       "      <td>0</td>\n",
       "      <td>600400</td>\n",
       "      <td>54898837</td>\n",
       "    </tr>\n",
       "    <tr>\n",
       "      <th>1</th>\n",
       "      <td>501073210</td>\n",
       "      <td>6586589538</td>\n",
       "      <td>0</td>\n",
       "      <td>613500</td>\n",
       "      <td>6586589538</td>\n",
       "    </tr>\n",
       "    <tr>\n",
       "      <th>2</th>\n",
       "      <td>501073211</td>\n",
       "      <td>52724428135</td>\n",
       "      <td>0</td>\n",
       "      <td>613300</td>\n",
       "      <td>52724428135</td>\n",
       "    </tr>\n",
       "    <tr>\n",
       "      <th>3</th>\n",
       "      <td>501080401</td>\n",
       "      <td>7227600967</td>\n",
       "      <td>0</td>\n",
       "      <td>515400</td>\n",
       "      <td>7227600967</td>\n",
       "    </tr>\n",
       "    <tr>\n",
       "      <th>4</th>\n",
       "      <td>401111370</td>\n",
       "      <td>0</td>\n",
       "      <td>129950000</td>\n",
       "      <td>508800</td>\n",
       "      <td>-129950000</td>\n",
       "    </tr>\n",
       "  </tbody>\n",
       "</table>\n",
       "</div>"
      ],
      "text/plain": [
       "     SL_CODE          DBT        CRD  MAIN_CODE          SUM\n",
       "0  501073102     54898837          0     600400     54898837\n",
       "1  501073210   6586589538          0     613500   6586589538\n",
       "2  501073211  52724428135          0     613300  52724428135\n",
       "3  501080401   7227600967          0     515400   7227600967\n",
       "4  401111370            0  129950000     508800   -129950000"
      ]
     },
     "execution_count": 69,
     "metadata": {},
     "output_type": "execute_result"
    }
   ],
   "source": [
    "mapinfo.head()"
   ]
  },
  {
   "cell_type": "code",
   "execution_count": 70,
   "id": "586a09f2",
   "metadata": {},
   "outputs": [],
   "source": [
    "mapinfo_input = mapinfo.drop('SUM', axis=1)mapinfo['MAIN_CODE']"
   ]
  },
  {
   "cell_type": "code",
   "execution_count": 75,
   "id": "f45d3f1e",
   "metadata": {},
   "outputs": [],
   "source": [
    "mapinfo_64 = mapinfo_input[mapinfo_input['MAIN_CODE']==600400]"
   ]
  },
  {
   "cell_type": "code",
   "execution_count": 76,
   "id": "43c90eb1",
   "metadata": {},
   "outputs": [],
   "source": [
    "mapinfo_input_t = torch.tensor(mapinfo_64.values).type(torch.float32)"
   ]
  },
  {
   "cell_type": "code",
   "execution_count": 77,
   "id": "802c5b74",
   "metadata": {},
   "outputs": [
    {
     "data": {
      "text/plain": [
       "tensor([[5.0107e+08, 5.4899e+07, 0.0000e+00, 6.0040e+05],\n",
       "        [5.0102e+08, 3.0000e+00, 0.0000e+00, 6.0040e+05],\n",
       "        [5.0102e+08, 5.2619e+08, 0.0000e+00, 6.0040e+05],\n",
       "        [5.0102e+08, 1.3589e+05, 0.0000e+00, 6.0040e+05],\n",
       "        [5.0102e+08, 1.7279e+12, 0.0000e+00, 6.0040e+05],\n",
       "        [5.0102e+08, 7.0959e+09, 0.0000e+00, 6.0040e+05],\n",
       "        [5.0102e+08, 2.8024e+10, 0.0000e+00, 6.0040e+05],\n",
       "        [5.0102e+08, 5.4564e+06, 0.0000e+00, 6.0040e+05]])"
      ]
     },
     "execution_count": 77,
     "metadata": {},
     "output_type": "execute_result"
    }
   ],
   "source": [
    "mapinfo_input_t"
   ]
  },
  {
   "cell_type": "code",
   "execution_count": 82,
   "id": "68b6f480",
   "metadata": {},
   "outputs": [],
   "source": [
    "with torch.no_grad():\n",
    "    out_map = loaded_model_1(mapinfo_input_t)"
   ]
  },
  {
   "cell_type": "code",
   "execution_count": 93,
   "id": "b6086f64",
   "metadata": {},
   "outputs": [
    {
     "data": {
      "text/plain": [
       "tensor([[5.4899e+07],\n",
       "        [2.7419e+00],\n",
       "        [5.2619e+08],\n",
       "        [1.3589e+05],\n",
       "        [1.7279e+12],\n",
       "        [7.0959e+09],\n",
       "        [2.8024e+10],\n",
       "        [5.4564e+06]])"
      ]
     },
     "execution_count": 93,
     "metadata": {},
     "output_type": "execute_result"
    }
   ],
   "source": [
    "out_map"
   ]
  },
  {
   "cell_type": "code",
   "execution_count": 94,
   "id": "b446dbfa",
   "metadata": {},
   "outputs": [],
   "source": [
    "out_map_Scaler = out_map.squeeze()"
   ]
  },
  {
   "cell_type": "code",
   "execution_count": 91,
   "id": "a3818f5e",
   "metadata": {},
   "outputs": [
    {
     "name": "stdout",
     "output_type": "stream",
     "text": [
      "1763647684608.0\n"
     ]
    }
   ],
   "source": [
    "print(torch.sum(out_map).item())"
   ]
  },
  {
   "cell_type": "code",
   "execution_count": 103,
   "id": "33a53f5d",
   "metadata": {},
   "outputs": [],
   "source": [
    "data_7 = pd.read_excel(\"data7.xlsx\")\n",
    "out_7 = data_7[\"SUM\"]\n",
    "data_7 = data_7.drop('SUM', axis=1)"
   ]
  },
  {
   "cell_type": "code",
   "execution_count": 104,
   "id": "db3c03a4",
   "metadata": {},
   "outputs": [],
   "source": [
    "data_7_input = torch.tensor(data_7.values).type(torch.float32)"
   ]
  },
  {
   "cell_type": "code",
   "execution_count": 106,
   "id": "b3540e37",
   "metadata": {},
   "outputs": [
    {
     "data": {
      "text/plain": [
       "tensor([[5.0107e+08, 5.4899e+07, 0.0000e+00, 6.0040e+05],\n",
       "        [5.0107e+08, 6.5866e+09, 0.0000e+00, 6.1350e+05],\n",
       "        [5.0107e+08, 5.2724e+10, 0.0000e+00, 6.1330e+05],\n",
       "        ...,\n",
       "        [1.1109e+08, 5.5785e+12, 0.0000e+00, 1.2000e+07],\n",
       "        [5.0104e+08, 0.0000e+00, 0.0000e+00, 6.0590e+05],\n",
       "        [1.1814e+08, 0.0000e+00, 0.0000e+00, 1.3520e+06]])"
      ]
     },
     "execution_count": 106,
     "metadata": {},
     "output_type": "execute_result"
    }
   ],
   "source": [
    "data_7_input"
   ]
  },
  {
   "cell_type": "code",
   "execution_count": 109,
   "id": "b245d17b",
   "metadata": {},
   "outputs": [],
   "source": [
    "with torch.no_grad():\n",
    "    out_model = loaded_model_1(data_7_input)"
   ]
  },
  {
   "cell_type": "code",
   "execution_count": 110,
   "id": "c1f6e3e8",
   "metadata": {},
   "outputs": [
    {
     "data": {
      "text/plain": [
       "tensor([[ 5.4899e+07],\n",
       "        [ 6.5866e+09],\n",
       "        [ 5.2724e+10],\n",
       "        ...,\n",
       "        [ 5.5785e+12],\n",
       "        [-2.5784e-01],\n",
       "        [-5.4435e-01]])"
      ]
     },
     "execution_count": 110,
     "metadata": {},
     "output_type": "execute_result"
    }
   ],
   "source": [
    "out_model"
   ]
  },
  {
   "cell_type": "code",
   "execution_count": 115,
   "id": "b481c2f4",
   "metadata": {},
   "outputs": [],
   "source": [
    "t_np = out_model.numpy() #convert to Numpy array\n",
    "df = pd.DataFrame(t_np) #convert to a dataframe\n",
    "df.to_csv(\"testfile.csv\",index=False) #save to file"
   ]
  },
  {
   "cell_type": "code",
   "execution_count": 113,
   "id": "b841725a",
   "metadata": {},
   "outputs": [],
   "source": [
    "df = pd.read_csv(\"testfile\")"
   ]
  },
  {
   "cell_type": "code",
   "execution_count": 120,
   "id": "50afddea",
   "metadata": {},
   "outputs": [],
   "source": [
    "df_main_code = mapinfo['MAIN_CODE']"
   ]
  },
  {
   "cell_type": "code",
   "execution_count": 125,
   "id": "90d9ca80",
   "metadata": {},
   "outputs": [],
   "source": [
    "df_merged = pd.concat([df, df_main_code], ignore_index=True, sort=False)"
   ]
  },
  {
   "cell_type": "code",
   "execution_count": 126,
   "id": "8f521a16",
   "metadata": {},
   "outputs": [
    {
     "data": {
      "text/html": [
       "<div>\n",
       "<style scoped>\n",
       "    .dataframe tbody tr th:only-of-type {\n",
       "        vertical-align: middle;\n",
       "    }\n",
       "\n",
       "    .dataframe tbody tr th {\n",
       "        vertical-align: top;\n",
       "    }\n",
       "\n",
       "    .dataframe thead th {\n",
       "        text-align: right;\n",
       "    }\n",
       "</style>\n",
       "<table border=\"1\" class=\"dataframe\">\n",
       "  <thead>\n",
       "    <tr style=\"text-align: right;\">\n",
       "      <th></th>\n",
       "      <th>0</th>\n",
       "    </tr>\n",
       "  </thead>\n",
       "  <tbody>\n",
       "    <tr>\n",
       "      <th>0</th>\n",
       "      <td>5.489884e+07</td>\n",
       "    </tr>\n",
       "    <tr>\n",
       "      <th>1</th>\n",
       "      <td>6.586590e+09</td>\n",
       "    </tr>\n",
       "    <tr>\n",
       "      <th>2</th>\n",
       "      <td>5.272443e+10</td>\n",
       "    </tr>\n",
       "    <tr>\n",
       "      <th>3</th>\n",
       "      <td>7.227601e+09</td>\n",
       "    </tr>\n",
       "    <tr>\n",
       "      <th>4</th>\n",
       "      <td>-1.299500e+08</td>\n",
       "    </tr>\n",
       "  </tbody>\n",
       "</table>\n",
       "</div>"
      ],
      "text/plain": [
       "              0\n",
       "0  5.489884e+07\n",
       "1  6.586590e+09\n",
       "2  5.272443e+10\n",
       "3  7.227601e+09\n",
       "4 -1.299500e+08"
      ]
     },
     "execution_count": 126,
     "metadata": {},
     "output_type": "execute_result"
    }
   ],
   "source": [
    "df_merged.head()"
   ]
  },
  {
   "cell_type": "code",
   "execution_count": 134,
   "id": "f1ecf6a1",
   "metadata": {},
   "outputs": [
    {
     "data": {
      "text/plain": [
       "(LinearRegressionModelV5(\n",
       "   (linear_layer): Linear(in_features=3, out_features=1, bias=True)\n",
       " ),\n",
       " OrderedDict([('linear_layer.weight', tensor([[ 0.4414,  0.4792, -0.1353]])),\n",
       "              ('linear_layer.bias', tensor([0.5304]))]))"
      ]
     },
     "execution_count": 134,
     "metadata": {},
     "output_type": "execute_result"
    }
   ],
   "source": [
    "class LinearRegressionModelV5(nn.Module):\n",
    "    def __init__(self, input_features, output_features, hidden_units=8):\n",
    "        super().__init__()\n",
    "        # Use nn.Linear() for creating the model parameters / also called: linear transform, probing layer, fully connected layer, dense layer\n",
    "        self.linear_layer = nn.Linear(in_features=input_features,\n",
    "                                      out_features=output_features)\n",
    "    \n",
    "    def forward(self, x: torch.Tensor) -> torch.Tensor:\n",
    "        return self.linear_layer(x)\n",
    "\n",
    "# Set the manual seed\n",
    "torch.manual_seed(42)\n",
    "model_akhar = LinearRegressionModelV5(3, 1)\n",
    "model_akhar, model_akhar.state_dict()"
   ]
  },
  {
   "cell_type": "code",
   "execution_count": 132,
   "id": "5ccbdf12",
   "metadata": {},
   "outputs": [],
   "source": [
    "data_8 = pd.read_excel(\"data8.xlsx\")"
   ]
  },
  {
   "cell_type": "code",
   "execution_count": 133,
   "id": "a449eed7",
   "metadata": {},
   "outputs": [
    {
     "data": {
      "text/html": [
       "<div>\n",
       "<style scoped>\n",
       "    .dataframe tbody tr th:only-of-type {\n",
       "        vertical-align: middle;\n",
       "    }\n",
       "\n",
       "    .dataframe tbody tr th {\n",
       "        vertical-align: top;\n",
       "    }\n",
       "\n",
       "    .dataframe thead th {\n",
       "        text-align: right;\n",
       "    }\n",
       "</style>\n",
       "<table border=\"1\" class=\"dataframe\">\n",
       "  <thead>\n",
       "    <tr style=\"text-align: right;\">\n",
       "      <th></th>\n",
       "      <th>sl</th>\n",
       "      <th>dbt</th>\n",
       "      <th>crd</th>\n",
       "      <th>sum</th>\n",
       "    </tr>\n",
       "  </thead>\n",
       "  <tbody>\n",
       "    <tr>\n",
       "      <th>0</th>\n",
       "      <td>401052302</td>\n",
       "      <td>0</td>\n",
       "      <td>266275758</td>\n",
       "      <td>-266275758</td>\n",
       "    </tr>\n",
       "    <tr>\n",
       "      <th>1</th>\n",
       "      <td>401052303</td>\n",
       "      <td>0</td>\n",
       "      <td>4603539430</td>\n",
       "      <td>-4603539430</td>\n",
       "    </tr>\n",
       "    <tr>\n",
       "      <th>2</th>\n",
       "      <td>401052501</td>\n",
       "      <td>0</td>\n",
       "      <td>5532375073</td>\n",
       "      <td>-5532375073</td>\n",
       "    </tr>\n",
       "    <tr>\n",
       "      <th>3</th>\n",
       "      <td>401052502</td>\n",
       "      <td>0</td>\n",
       "      <td>735035629</td>\n",
       "      <td>-735035629</td>\n",
       "    </tr>\n",
       "    <tr>\n",
       "      <th>4</th>\n",
       "      <td>401052504</td>\n",
       "      <td>0</td>\n",
       "      <td>16103462695</td>\n",
       "      <td>-16103462695</td>\n",
       "    </tr>\n",
       "  </tbody>\n",
       "</table>\n",
       "</div>"
      ],
      "text/plain": [
       "          sl  dbt          crd          sum\n",
       "0  401052302    0    266275758   -266275758\n",
       "1  401052303    0   4603539430  -4603539430\n",
       "2  401052501    0   5532375073  -5532375073\n",
       "3  401052502    0    735035629   -735035629\n",
       "4  401052504    0  16103462695 -16103462695"
      ]
     },
     "execution_count": 133,
     "metadata": {},
     "output_type": "execute_result"
    }
   ],
   "source": [
    "data_8.head()"
   ]
  },
  {
   "cell_type": "code",
   "execution_count": 135,
   "id": "9c64fa7e",
   "metadata": {},
   "outputs": [],
   "source": [
    "input_data = data_8.drop('sum', axis=1)\n",
    "output_data = data_8['sum']"
   ]
  },
  {
   "cell_type": "code",
   "execution_count": 136,
   "id": "73218b23",
   "metadata": {},
   "outputs": [],
   "source": [
    "input_data_t = torch.tensor(input_data.values).type(torch.float32)\n",
    "output_data_t = torch.tensor(output_data).type(torch.float32)"
   ]
  },
  {
   "cell_type": "code",
   "execution_count": 139,
   "id": "438f0bdc",
   "metadata": {},
   "outputs": [
    {
     "data": {
      "text/plain": [
       "(torch.Size([13001, 3]), torch.Size([13001]))"
      ]
     },
     "execution_count": 139,
     "metadata": {},
     "output_type": "execute_result"
    }
   ],
   "source": [
    "input_data_t.size(), output_data_t.size()"
   ]
  },
  {
   "cell_type": "code",
   "execution_count": 140,
   "id": "d36fb2e1",
   "metadata": {},
   "outputs": [],
   "source": [
    "output_data_t = output_data_t.unsqueeze(dim=1)"
   ]
  },
  {
   "cell_type": "code",
   "execution_count": 175,
   "id": "51aa138d",
   "metadata": {},
   "outputs": [],
   "source": [
    "loss_fn = nn.L1Loss() # same as MAE\n",
    "\n",
    "# Setup our optimizer\n",
    "optimizer = torch.optim.Adam(params=model_akhar.parameters(), \n",
    "                            lr=0.0000000001)"
   ]
  },
  {
   "cell_type": "code",
   "execution_count": 176,
   "id": "b2553eb0",
   "metadata": {},
   "outputs": [
    {
     "name": "stdout",
     "output_type": "stream",
     "text": [
      "Epoch: 0 | Loss: 0.01974686048924923\n",
      "Epoch: 100 | Loss: 0.019217846915125847\n",
      "Epoch: 200 | Loss: 0.019106173887848854\n",
      "Epoch: 300 | Loss: 0.019117096439003944\n",
      "Epoch: 400 | Loss: 0.01913115382194519\n",
      "Epoch: 500 | Loss: 0.019080132246017456\n",
      "Epoch: 600 | Loss: 0.019635938107967377\n",
      "Epoch: 700 | Loss: 0.01973060332238674\n",
      "Epoch: 800 | Loss: 0.019487446174025536\n",
      "Epoch: 900 | Loss: 0.01972619816660881\n"
     ]
    }
   ],
   "source": [
    "torch.manual_seed(42)\n",
    "\n",
    "epochs = 1000\n",
    "\n",
    "# Put data on the target device (device agnostic code for data) \n",
    "# X_train = X_train.to(device)\n",
    "# y_train = y_train.to(device)\n",
    "# X_test = X_test.to(device)\n",
    "# y_test = y_test.to(device)\n",
    "\n",
    "for epoch in range(epochs):\n",
    "    model_akhar.train()\n",
    "\n",
    "    # 1. Forward pass\n",
    "    y_pred = model_akhar(input_data_t)\n",
    "\n",
    "    # 2. Calculate the loss\n",
    "    loss = loss_fn(y_pred, output_data_t)\n",
    "\n",
    "    # 3. Optimizer zero grad\n",
    "    optimizer.zero_grad()\n",
    "\n",
    "    # 4. Perform backpropagation\n",
    "    loss.backward()\n",
    "\n",
    "    # 5. Optimizer step\n",
    "    optimizer.step()\n",
    "\n",
    "    ### Testing\n",
    "#     model_1.eval()\n",
    "#     with torch.inference_mode():\n",
    "#     test_pred = model_1(X_test)\n",
    "\n",
    "#     test_loss = loss_fn(test_pred, y_test)\n",
    "\n",
    "    # Print out what's happening\n",
    "    if epoch % 100 == 0: \n",
    "#     print(f\"Epoch: {epoch} | Loss: {loss} | Test loss: {test_loss}\")\n",
    "        print(f\"Epoch: {epoch} | Loss: {loss}\")"
   ]
  },
  {
   "cell_type": "code",
   "execution_count": 177,
   "id": "98523ca0",
   "metadata": {},
   "outputs": [
    {
     "data": {
      "text/html": [
       "<div>\n",
       "<style scoped>\n",
       "    .dataframe tbody tr th:only-of-type {\n",
       "        vertical-align: middle;\n",
       "    }\n",
       "\n",
       "    .dataframe tbody tr th {\n",
       "        vertical-align: top;\n",
       "    }\n",
       "\n",
       "    .dataframe thead th {\n",
       "        text-align: right;\n",
       "    }\n",
       "</style>\n",
       "<table border=\"1\" class=\"dataframe\">\n",
       "  <thead>\n",
       "    <tr style=\"text-align: right;\">\n",
       "      <th></th>\n",
       "      <th>401052302</th>\n",
       "      <th>0</th>\n",
       "      <th>266275758</th>\n",
       "    </tr>\n",
       "  </thead>\n",
       "  <tbody>\n",
       "    <tr>\n",
       "      <th>0</th>\n",
       "      <td>401052303</td>\n",
       "      <td>0</td>\n",
       "      <td>4603539430</td>\n",
       "    </tr>\n",
       "    <tr>\n",
       "      <th>1</th>\n",
       "      <td>401052501</td>\n",
       "      <td>0</td>\n",
       "      <td>5532375073</td>\n",
       "    </tr>\n",
       "    <tr>\n",
       "      <th>2</th>\n",
       "      <td>401052502</td>\n",
       "      <td>0</td>\n",
       "      <td>735035629</td>\n",
       "    </tr>\n",
       "    <tr>\n",
       "      <th>3</th>\n",
       "      <td>401052504</td>\n",
       "      <td>0</td>\n",
       "      <td>16103462695</td>\n",
       "    </tr>\n",
       "    <tr>\n",
       "      <th>4</th>\n",
       "      <td>401053001</td>\n",
       "      <td>0</td>\n",
       "      <td>6867785245</td>\n",
       "    </tr>\n",
       "    <tr>\n",
       "      <th>...</th>\n",
       "      <td>...</td>\n",
       "      <td>...</td>\n",
       "      <td>...</td>\n",
       "    </tr>\n",
       "    <tr>\n",
       "      <th>5980</th>\n",
       "      <td>118073502</td>\n",
       "      <td>4039923081</td>\n",
       "      <td>0</td>\n",
       "    </tr>\n",
       "    <tr>\n",
       "      <th>5981</th>\n",
       "      <td>118073503</td>\n",
       "      <td>3565959756</td>\n",
       "      <td>0</td>\n",
       "    </tr>\n",
       "    <tr>\n",
       "      <th>5982</th>\n",
       "      <td>118073505</td>\n",
       "      <td>295273020</td>\n",
       "      <td>0</td>\n",
       "    </tr>\n",
       "    <tr>\n",
       "      <th>5983</th>\n",
       "      <td>118073506</td>\n",
       "      <td>265636878</td>\n",
       "      <td>0</td>\n",
       "    </tr>\n",
       "    <tr>\n",
       "      <th>5984</th>\n",
       "      <td>118073510</td>\n",
       "      <td>0</td>\n",
       "      <td>0</td>\n",
       "    </tr>\n",
       "  </tbody>\n",
       "</table>\n",
       "<p>5985 rows × 3 columns</p>\n",
       "</div>"
      ],
      "text/plain": [
       "      401052302           0    266275758\n",
       "0     401052303           0   4603539430\n",
       "1     401052501           0   5532375073\n",
       "2     401052502           0    735035629\n",
       "3     401052504           0  16103462695\n",
       "4     401053001           0   6867785245\n",
       "...         ...         ...          ...\n",
       "5980  118073502  4039923081            0\n",
       "5981  118073503  3565959756            0\n",
       "5982  118073505   295273020            0\n",
       "5983  118073506   265636878            0\n",
       "5984  118073510           0            0\n",
       "\n",
       "[5985 rows x 3 columns]"
      ]
     },
     "execution_count": 177,
     "metadata": {},
     "output_type": "execute_result"
    }
   ],
   "source": [
    "test_input = pd.read_excel('data9.xlsx')\n",
    "test_input"
   ]
  },
  {
   "cell_type": "code",
   "execution_count": 178,
   "id": "ec767d71",
   "metadata": {},
   "outputs": [
    {
     "data": {
      "text/plain": [
       "tensor([[4.0105e+08, 0.0000e+00, 4.6035e+09],\n",
       "        [4.0105e+08, 0.0000e+00, 5.5324e+09],\n",
       "        [4.0105e+08, 0.0000e+00, 7.3504e+08],\n",
       "        ...,\n",
       "        [1.1807e+08, 2.9527e+08, 0.0000e+00],\n",
       "        [1.1807e+08, 2.6564e+08, 0.0000e+00],\n",
       "        [1.1807e+08, 0.0000e+00, 0.0000e+00]])"
      ]
     },
     "execution_count": 178,
     "metadata": {},
     "output_type": "execute_result"
    }
   ],
   "source": [
    "test_input_t = torch.tensor(test_input.values).type(torch.float32)\n",
    "test_input_t"
   ]
  },
  {
   "cell_type": "code",
   "execution_count": 181,
   "id": "9c84a8df",
   "metadata": {},
   "outputs": [],
   "source": [
    "with torch.no_grad():\n",
    "    natije_akhar = model_akhar(test_input_t)"
   ]
  },
  {
   "cell_type": "code",
   "execution_count": 182,
   "id": "e0428360",
   "metadata": {},
   "outputs": [
    {
     "data": {
      "text/plain": [
       "tensor([[-4.6035e+09],\n",
       "        [-5.5324e+09],\n",
       "        [-7.3504e+08],\n",
       "        ...,\n",
       "        [ 2.9527e+08],\n",
       "        [ 2.6564e+08],\n",
       "        [ 1.6124e-01]])"
      ]
     },
     "execution_count": 182,
     "metadata": {},
     "output_type": "execute_result"
    }
   ],
   "source": [
    "natije_akhar"
   ]
  },
  {
   "cell_type": "code",
   "execution_count": 183,
   "id": "f101ffa0",
   "metadata": {},
   "outputs": [],
   "source": [
    "t_np = natije_akhar.numpy() #convert to Numpy array\n",
    "df = pd.DataFrame(t_np) #convert to a dataframe\n",
    "df.to_csv(\"test_file2.csv\",index=False) #save to file"
   ]
  },
  {
   "cell_type": "code",
   "execution_count": null,
   "id": "cd0e43ac",
   "metadata": {},
   "outputs": [],
   "source": []
  }
 ],
 "metadata": {
  "kernelspec": {
   "display_name": "Python 3 (ipykernel)",
   "language": "python",
   "name": "python3"
  },
  "language_info": {
   "codemirror_mode": {
    "name": "ipython",
    "version": 3
   },
   "file_extension": ".py",
   "mimetype": "text/x-python",
   "name": "python",
   "nbconvert_exporter": "python",
   "pygments_lexer": "ipython3",
   "version": "3.10.9"
  }
 },
 "nbformat": 4,
 "nbformat_minor": 5
}
