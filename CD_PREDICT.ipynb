{
 "cells": [
  {
   "cell_type": "code",
   "execution_count": 73,
   "id": "935fa9fb",
   "metadata": {},
   "outputs": [],
   "source": [
    "import numpy as np\n",
    "import pandas as pd\n",
    "from sklearn.ensemble import RandomForestRegressor\n",
    "from sklearn.linear_model import LinearRegression\n",
    "from sklearn.gaussian_process import GaussianProcessRegressor"
   ]
  },
  {
   "cell_type": "code",
   "execution_count": 3,
   "id": "820de3c6",
   "metadata": {},
   "outputs": [
    {
     "data": {
      "text/html": [
       "<div>\n",
       "<style scoped>\n",
       "    .dataframe tbody tr th:only-of-type {\n",
       "        vertical-align: middle;\n",
       "    }\n",
       "\n",
       "    .dataframe tbody tr th {\n",
       "        vertical-align: top;\n",
       "    }\n",
       "\n",
       "    .dataframe thead th {\n",
       "        text-align: right;\n",
       "    }\n",
       "</style>\n",
       "<table border=\"1\" class=\"dataframe\">\n",
       "  <thead>\n",
       "    <tr style=\"text-align: right;\">\n",
       "      <th></th>\n",
       "      <th>FINANCIAL_REPORTING_MAIN_CODE</th>\n",
       "      <th>SL_CODE</th>\n",
       "      <th>dbt_value</th>\n",
       "      <th>crd_value</th>\n",
       "    </tr>\n",
       "  </thead>\n",
       "  <tbody>\n",
       "    <tr>\n",
       "      <th>0</th>\n",
       "      <td>9706</td>\n",
       "      <td>111110413</td>\n",
       "      <td>3.452797e+09</td>\n",
       "      <td>0.0</td>\n",
       "    </tr>\n",
       "    <tr>\n",
       "      <th>1</th>\n",
       "      <td>9706</td>\n",
       "      <td>111110414</td>\n",
       "      <td>1.989968e+10</td>\n",
       "      <td>0.0</td>\n",
       "    </tr>\n",
       "    <tr>\n",
       "      <th>2</th>\n",
       "      <td>9706</td>\n",
       "      <td>111110415</td>\n",
       "      <td>6.794586e+08</td>\n",
       "      <td>0.0</td>\n",
       "    </tr>\n",
       "    <tr>\n",
       "      <th>3</th>\n",
       "      <td>9709</td>\n",
       "      <td>113121307</td>\n",
       "      <td>1.652008e+12</td>\n",
       "      <td>0.0</td>\n",
       "    </tr>\n",
       "    <tr>\n",
       "      <th>4</th>\n",
       "      <td>9709</td>\n",
       "      <td>113121308</td>\n",
       "      <td>2.592063e+12</td>\n",
       "      <td>0.0</td>\n",
       "    </tr>\n",
       "  </tbody>\n",
       "</table>\n",
       "</div>"
      ],
      "text/plain": [
       "   FINANCIAL_REPORTING_MAIN_CODE    SL_CODE     dbt_value  crd_value\n",
       "0                           9706  111110413  3.452797e+09        0.0\n",
       "1                           9706  111110414  1.989968e+10        0.0\n",
       "2                           9706  111110415  6.794586e+08        0.0\n",
       "3                           9709  113121307  1.652008e+12        0.0\n",
       "4                           9709  113121308  2.592063e+12        0.0"
      ]
     },
     "execution_count": 3,
     "metadata": {},
     "output_type": "execute_result"
    }
   ],
   "source": [
    "data = pd.read_excel(\"data10.xlsx\")\n",
    "data.head()"
   ]
  },
  {
   "cell_type": "code",
   "execution_count": 102,
   "id": "b7103dc4",
   "metadata": {},
   "outputs": [
    {
     "data": {
      "text/html": [
       "<div>\n",
       "<style scoped>\n",
       "    .dataframe tbody tr th:only-of-type {\n",
       "        vertical-align: middle;\n",
       "    }\n",
       "\n",
       "    .dataframe tbody tr th {\n",
       "        vertical-align: top;\n",
       "    }\n",
       "\n",
       "    .dataframe thead th {\n",
       "        text-align: right;\n",
       "    }\n",
       "</style>\n",
       "<table border=\"1\" class=\"dataframe\">\n",
       "  <thead>\n",
       "    <tr style=\"text-align: right;\">\n",
       "      <th></th>\n",
       "      <th>FINANCIAL_REPORTING_MAIN_CODE</th>\n",
       "      <th>SL_CODE</th>\n",
       "      <th>dbt_value</th>\n",
       "      <th>crd_value</th>\n",
       "    </tr>\n",
       "  </thead>\n",
       "  <tbody>\n",
       "    <tr>\n",
       "      <th>46</th>\n",
       "      <td>9709</td>\n",
       "      <td>401013614</td>\n",
       "      <td>0.0</td>\n",
       "      <td>3.528600e+04</td>\n",
       "    </tr>\n",
       "    <tr>\n",
       "      <th>238</th>\n",
       "      <td>9709</td>\n",
       "      <td>212010746</td>\n",
       "      <td>0.0</td>\n",
       "      <td>1.729248e+10</td>\n",
       "    </tr>\n",
       "    <tr>\n",
       "      <th>243</th>\n",
       "      <td>9603</td>\n",
       "      <td>401053404</td>\n",
       "      <td>0.0</td>\n",
       "      <td>6.098725e+08</td>\n",
       "    </tr>\n",
       "    <tr>\n",
       "      <th>244</th>\n",
       "      <td>9603</td>\n",
       "      <td>401053409</td>\n",
       "      <td>0.0</td>\n",
       "      <td>5.948222e+09</td>\n",
       "    </tr>\n",
       "    <tr>\n",
       "      <th>245</th>\n",
       "      <td>9603</td>\n",
       "      <td>401053410</td>\n",
       "      <td>0.0</td>\n",
       "      <td>2.620528e+06</td>\n",
       "    </tr>\n",
       "    <tr>\n",
       "      <th>...</th>\n",
       "      <td>...</td>\n",
       "      <td>...</td>\n",
       "      <td>...</td>\n",
       "      <td>...</td>\n",
       "    </tr>\n",
       "    <tr>\n",
       "      <th>11850</th>\n",
       "      <td>9503</td>\n",
       "      <td>117040804</td>\n",
       "      <td>0.0</td>\n",
       "      <td>5.219280e+10</td>\n",
       "    </tr>\n",
       "    <tr>\n",
       "      <th>11872</th>\n",
       "      <td>9503</td>\n",
       "      <td>118110220</td>\n",
       "      <td>0.0</td>\n",
       "      <td>1.093360e+12</td>\n",
       "    </tr>\n",
       "    <tr>\n",
       "      <th>11873</th>\n",
       "      <td>9503</td>\n",
       "      <td>118110220</td>\n",
       "      <td>0.0</td>\n",
       "      <td>5.806667e+11</td>\n",
       "    </tr>\n",
       "    <tr>\n",
       "      <th>11877</th>\n",
       "      <td>9503</td>\n",
       "      <td>102030101</td>\n",
       "      <td>0.0</td>\n",
       "      <td>1.513333e+11</td>\n",
       "    </tr>\n",
       "    <tr>\n",
       "      <th>11891</th>\n",
       "      <td>9503</td>\n",
       "      <td>102010101</td>\n",
       "      <td>0.0</td>\n",
       "      <td>1.982207e+11</td>\n",
       "    </tr>\n",
       "  </tbody>\n",
       "</table>\n",
       "<p>5021 rows × 4 columns</p>\n",
       "</div>"
      ],
      "text/plain": [
       "       FINANCIAL_REPORTING_MAIN_CODE    SL_CODE  dbt_value     crd_value\n",
       "46                              9709  401013614        0.0  3.528600e+04\n",
       "238                             9709  212010746        0.0  1.729248e+10\n",
       "243                             9603  401053404        0.0  6.098725e+08\n",
       "244                             9603  401053409        0.0  5.948222e+09\n",
       "245                             9603  401053410        0.0  2.620528e+06\n",
       "...                              ...        ...        ...           ...\n",
       "11850                           9503  117040804        0.0  5.219280e+10\n",
       "11872                           9503  118110220        0.0  1.093360e+12\n",
       "11873                           9503  118110220        0.0  5.806667e+11\n",
       "11877                           9503  102030101        0.0  1.513333e+11\n",
       "11891                           9503  102010101        0.0  1.982207e+11\n",
       "\n",
       "[5021 rows x 4 columns]"
      ]
     },
     "execution_count": 102,
     "metadata": {},
     "output_type": "execute_result"
    }
   ],
   "source": [
    "data[data['crd_value'] > 0]"
   ]
  },
  {
   "cell_type": "code",
   "execution_count": 29,
   "id": "b54370a5",
   "metadata": {},
   "outputs": [],
   "source": [
    "X = data[\"SL_CODE\"]\n",
    "y = data[[\"dbt_value\", \"crd_value\"]]"
   ]
  },
  {
   "cell_type": "code",
   "execution_count": 30,
   "id": "5cd3a1f5",
   "metadata": {},
   "outputs": [],
   "source": [
    "X = (X.values).reshape(-1, 1)"
   ]
  },
  {
   "cell_type": "code",
   "execution_count": 74,
   "id": "b5c10363",
   "metadata": {},
   "outputs": [],
   "source": [
    "modelR = RandomForestRegressor(n_estimators=200)\n",
    "# modelL = LinearRegression()\n",
    "# modelS = LinearSVR()\n",
    "# modelK = KNeighborsRegressor(n_neighbors=5)\n",
    "modelG = GaussianProcessRegressor()"
   ]
  },
  {
   "cell_type": "code",
   "execution_count": 75,
   "id": "3aac721b",
   "metadata": {},
   "outputs": [
    {
     "data": {
      "text/html": [
       "<style>#sk-container-id-6 {color: black;background-color: white;}#sk-container-id-6 pre{padding: 0;}#sk-container-id-6 div.sk-toggleable {background-color: white;}#sk-container-id-6 label.sk-toggleable__label {cursor: pointer;display: block;width: 100%;margin-bottom: 0;padding: 0.3em;box-sizing: border-box;text-align: center;}#sk-container-id-6 label.sk-toggleable__label-arrow:before {content: \"▸\";float: left;margin-right: 0.25em;color: #696969;}#sk-container-id-6 label.sk-toggleable__label-arrow:hover:before {color: black;}#sk-container-id-6 div.sk-estimator:hover label.sk-toggleable__label-arrow:before {color: black;}#sk-container-id-6 div.sk-toggleable__content {max-height: 0;max-width: 0;overflow: hidden;text-align: left;background-color: #f0f8ff;}#sk-container-id-6 div.sk-toggleable__content pre {margin: 0.2em;color: black;border-radius: 0.25em;background-color: #f0f8ff;}#sk-container-id-6 input.sk-toggleable__control:checked~div.sk-toggleable__content {max-height: 200px;max-width: 100%;overflow: auto;}#sk-container-id-6 input.sk-toggleable__control:checked~label.sk-toggleable__label-arrow:before {content: \"▾\";}#sk-container-id-6 div.sk-estimator input.sk-toggleable__control:checked~label.sk-toggleable__label {background-color: #d4ebff;}#sk-container-id-6 div.sk-label input.sk-toggleable__control:checked~label.sk-toggleable__label {background-color: #d4ebff;}#sk-container-id-6 input.sk-hidden--visually {border: 0;clip: rect(1px 1px 1px 1px);clip: rect(1px, 1px, 1px, 1px);height: 1px;margin: -1px;overflow: hidden;padding: 0;position: absolute;width: 1px;}#sk-container-id-6 div.sk-estimator {font-family: monospace;background-color: #f0f8ff;border: 1px dotted black;border-radius: 0.25em;box-sizing: border-box;margin-bottom: 0.5em;}#sk-container-id-6 div.sk-estimator:hover {background-color: #d4ebff;}#sk-container-id-6 div.sk-parallel-item::after {content: \"\";width: 100%;border-bottom: 1px solid gray;flex-grow: 1;}#sk-container-id-6 div.sk-label:hover label.sk-toggleable__label {background-color: #d4ebff;}#sk-container-id-6 div.sk-serial::before {content: \"\";position: absolute;border-left: 1px solid gray;box-sizing: border-box;top: 0;bottom: 0;left: 50%;z-index: 0;}#sk-container-id-6 div.sk-serial {display: flex;flex-direction: column;align-items: center;background-color: white;padding-right: 0.2em;padding-left: 0.2em;position: relative;}#sk-container-id-6 div.sk-item {position: relative;z-index: 1;}#sk-container-id-6 div.sk-parallel {display: flex;align-items: stretch;justify-content: center;background-color: white;position: relative;}#sk-container-id-6 div.sk-item::before, #sk-container-id-6 div.sk-parallel-item::before {content: \"\";position: absolute;border-left: 1px solid gray;box-sizing: border-box;top: 0;bottom: 0;left: 50%;z-index: -1;}#sk-container-id-6 div.sk-parallel-item {display: flex;flex-direction: column;z-index: 1;position: relative;background-color: white;}#sk-container-id-6 div.sk-parallel-item:first-child::after {align-self: flex-end;width: 50%;}#sk-container-id-6 div.sk-parallel-item:last-child::after {align-self: flex-start;width: 50%;}#sk-container-id-6 div.sk-parallel-item:only-child::after {width: 0;}#sk-container-id-6 div.sk-dashed-wrapped {border: 1px dashed gray;margin: 0 0.4em 0.5em 0.4em;box-sizing: border-box;padding-bottom: 0.4em;background-color: white;}#sk-container-id-6 div.sk-label label {font-family: monospace;font-weight: bold;display: inline-block;line-height: 1.2em;}#sk-container-id-6 div.sk-label-container {text-align: center;}#sk-container-id-6 div.sk-container {/* jupyter's `normalize.less` sets `[hidden] { display: none; }` but bootstrap.min.css set `[hidden] { display: none !important; }` so we also need the `!important` here to be able to override the default hidden behavior on the sphinx rendered scikit-learn.org. See: https://github.com/scikit-learn/scikit-learn/issues/21755 */display: inline-block !important;position: relative;}#sk-container-id-6 div.sk-text-repr-fallback {display: none;}</style><div id=\"sk-container-id-6\" class=\"sk-top-container\"><div class=\"sk-text-repr-fallback\"><pre>GaussianProcessRegressor()</pre><b>In a Jupyter environment, please rerun this cell to show the HTML representation or trust the notebook. <br />On GitHub, the HTML representation is unable to render, please try loading this page with nbviewer.org.</b></div><div class=\"sk-container\" hidden><div class=\"sk-item\"><div class=\"sk-estimator sk-toggleable\"><input class=\"sk-toggleable__control sk-hidden--visually\" id=\"sk-estimator-id-6\" type=\"checkbox\" checked><label for=\"sk-estimator-id-6\" class=\"sk-toggleable__label sk-toggleable__label-arrow\">GaussianProcessRegressor</label><div class=\"sk-toggleable__content\"><pre>GaussianProcessRegressor()</pre></div></div></div></div></div>"
      ],
      "text/plain": [
       "GaussianProcessRegressor()"
      ]
     },
     "execution_count": 75,
     "metadata": {},
     "output_type": "execute_result"
    }
   ],
   "source": [
    "modelR.fit(X, y)\n",
    "modelG.fit(X, y)"
   ]
  },
  {
   "cell_type": "code",
   "execution_count": 108,
   "id": "e7083599",
   "metadata": {},
   "outputs": [
    {
     "name": "stdout",
     "output_type": "stream",
     "text": [
      "The RFR predict is [[3.33064617e+12 2.85606202e+12]]\n",
      "The GR predict is [[3.95282953e+12 3.24781736e+12]]\n",
      "The actual value is:\n",
      "dbt_value    3.952863e+12\n",
      "crd_value    3.247719e+12\n",
      "dtype: float64\n"
     ]
    }
   ],
   "source": [
    "sample = np.array([102030101]).reshape(-1, 1)\n",
    "y_true = data[data[\"SL_CODE\"] == sample[0][0]][['dbt_value', 'crd_value']].mean()\n",
    "predR = modelR.predict(sample)\n",
    "predG = modelG.predict(sample)\n",
    "print(f\"The RFR predict is {predR}\")\n",
    "print(f\"The GR predict is {predG}\")\n",
    "print(f\"\"\"The actual value is:\n",
    "{y_true}\"\"\")"
   ]
  },
  {
   "cell_type": "code",
   "execution_count": 109,
   "id": "9f7ca4e2",
   "metadata": {},
   "outputs": [
    {
     "data": {
      "text/plain": [
       "3952863446453.3335"
      ]
     },
     "execution_count": 109,
     "metadata": {},
     "output_type": "execute_result"
    }
   ],
   "source": [
    "y_true['dbt_value']"
   ]
  },
  {
   "cell_type": "code",
   "execution_count": 110,
   "id": "8b9b357c",
   "metadata": {},
   "outputs": [
    {
     "data": {
      "text/plain": [
       "3952829530112.0"
      ]
     },
     "execution_count": 110,
     "metadata": {},
     "output_type": "execute_result"
    }
   ],
   "source": [
    "predG[0][0]"
   ]
  },
  {
   "cell_type": "code",
   "execution_count": 111,
   "id": "34ed1104",
   "metadata": {},
   "outputs": [
    {
     "data": {
      "text/plain": [
       "33916341"
      ]
     },
     "execution_count": 111,
     "metadata": {},
     "output_type": "execute_result"
    }
   ],
   "source": [
    "int(y_true['dbt_value'] - predG[0][0])"
   ]
  },
  {
   "cell_type": "code",
   "execution_count": 112,
   "id": "7b8a20e1",
   "metadata": {},
   "outputs": [],
   "source": [
    "import pickle\n",
    "# save\n",
    "with open('model_DBTCRD.pkl','wb') as f:\n",
    "    pickle.dump(modelG,f)\n",
    "\n",
    "# load\n",
    "# with open('model.pkl', 'rb') as f:\n",
    "#     clf2 = pickle.load(f)"
   ]
  },
  {
   "cell_type": "code",
   "execution_count": null,
   "id": "32b39c03",
   "metadata": {},
   "outputs": [],
   "source": []
  }
 ],
 "metadata": {
  "kernelspec": {
   "display_name": "Python 3 (ipykernel)",
   "language": "python",
   "name": "python3"
  },
  "language_info": {
   "codemirror_mode": {
    "name": "ipython",
    "version": 3
   },
   "file_extension": ".py",
   "mimetype": "text/x-python",
   "name": "python",
   "nbconvert_exporter": "python",
   "pygments_lexer": "ipython3",
   "version": "3.10.9"
  }
 },
 "nbformat": 4,
 "nbformat_minor": 5
}
